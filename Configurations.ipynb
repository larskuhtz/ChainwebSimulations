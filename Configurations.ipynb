{
 "cells": [
  {
   "cell_type": "code",
   "execution_count": 324,
   "metadata": {},
   "outputs": [],
   "source": [
    "from typing import Protocol\n",
    "import sys\n",
    "import queue\n",
    "import pandas as pd\n",
    "import numpy as np\n",
    "import scipy as sp\n",
    "import seaborn as sns\n",
    "import matplotlib.pyplot as plt\n",
    "import igraph as ig\n",
    "\n",
    "from src import graphs\n",
    "from src import cache"
   ]
  },
  {
   "cell_type": "markdown",
   "metadata": {},
   "source": [
    "Note, I tried using numba to accelerate computations. It provided some benefits in some circumstances.\n",
    "However, overall, numba is hard to work with because of inconsistent support of different\n",
    "language features of python and numpy. Working around the limitations often eliminates\n",
    "any benefit."
   ]
  },
  {
   "cell_type": "code",
   "execution_count": 34,
   "metadata": {},
   "outputs": [
    {
     "name": "stdout",
     "output_type": "stream",
     "text": [
      "python: 3.12.2 (main, Feb  6 2024, 20:19:44) [Clang 15.0.0 (clang-1500.1.0.2.5)]\n",
      "numpy: 1.26.4\n"
     ]
    }
   ],
   "source": [
    "print(f\"python: {sys.version.rsplit('|')[0]}\")\n",
    "print(f\"numpy: {np.__version__}\")"
   ]
  },
  {
   "cell_type": "code",
   "execution_count": 35,
   "metadata": {},
   "outputs": [
    {
     "name": "stdout",
     "output_type": "stream",
     "text": [
      "The autoreload extension is already loaded. To reload it, use:\n",
      "  %reload_ext autoreload\n"
     ]
    }
   ],
   "source": [
    "%load_ext autoreload\n",
    "%autoreload 2"
   ]
  },
  {
   "cell_type": "code",
   "execution_count": 36,
   "metadata": {},
   "outputs": [],
   "source": [
    "plt.rcParams[\"figure.figsize\"] = [14,6]\n",
    "sns.set()"
   ]
  },
  {
   "cell_type": "code",
   "execution_count": 37,
   "metadata": {},
   "outputs": [],
   "source": [
    "sqlite_path = \"data/configurations.sqlite\"\n",
    "pickle_dir = \"./data/configurations\"\n",
    "\n",
    "# Whether to refresh expensive cached computations\n",
    "refresh = False"
   ]
  },
  {
   "cell_type": "markdown",
   "metadata": {},
   "source": [
    "# Chainweb Configurations"
   ]
  },
  {
   "cell_type": "markdown",
   "metadata": {},
   "source": [
    "### Cuts\n",
    "\n",
    "Intuitively a *Cut* of a chainweb is a set of blocks, one from each chain, that can occure concurrently as state of consensus.\n",
    "\n",
    "Let $\\mathcal{C}$ be the set of chains in a chainweb with chain graph $\\mathcal{G} = (\\mathcal{C}, \\mathcal{E})$.\n",
    "We denote the (symmetric) adjacency matrix of $\\mathcal(G)$ as $\\mathcal{M}(\\mathcal{G})$.\n",
    "\n",
    "(Note, that we generally distinguish between the chain graph and the chainweb graph. The vertexes of\n",
    "the former is the set of all chains and it defines the\n",
    "dependencies between chains and constrains the braiding of a chainweb. The vertex that of the latter\n",
    "are all the blocks in a chainweb and it represents the direct dependencies between blocks.)\n",
    "\n",
    "For a chainweb let $\\mathcal{B}$ the set of blocks.\n",
    "\n",
    "A \\emph{cut} is a selection of blocks with \n",
    "1.  exactly one block from each chain such that\n",
    "2.  blocks from neighboring chains are braided correctly and are at most one block appart in height.\n",
    "\n",
    "Formally, a cut $C : \\mathcal{C} \\to \\mathcal{B}$ is a mapping from chains to blocks such that for each $c \\in \\mathcal{C}$\n",
    "it holds that\n",
    "1.  $chain(C(c)) = c$ (block are mapped from their respective chain) and\n",
    "2.  for all $d \\in \\mathcal{C}$ with $\\{c,d\\} \\in \\mathcal{E}$ it holds that\n",
    "    1.  $parent_d(C(c)) = C(d)$, or\n",
    "    2.  $C(c) = parent_c(C(d))$, or\n",
    "    3.  $parent_d(C(c)) = parent(C(d))$ and $parent(C(c)) = parent_c(C(d))$.\n",
    " \n",
    "In the following we only consider correctly braided chainwebs without forks.\n",
    "In that case the second can be simplfied to\n",
    "*   $\\left|height(C(c)) - height(C(d))\\right| \\leq 1$.\n",
    "\n",
    "### Configurations\n",
    "\n",
    "Configurations form an equivalence relation on the cuts of a chainweb. A configuration abstracts \n",
    "from concrete blocks and considers only on the relative height differences of the blocks in a cut.\n",
    "\n",
    "Given a cut $C$ the corresponding configuration is defined as the (skew symmetric) square matrix $Conf(C)$,\n",
    "with\n",
    "\n",
    "$$\n",
    "Conf(C) = \\left(height(C(c)) - height(C((d)))\\right)_{c,d \\in \\mathcal{C}}\\,.\n",
    "$$\n",
    "\n",
    "Note that the entries are bounded by the length of the shortest path between the respective\n",
    "chains in $\\mathcal{G}$.\n",
    "\n",
    "From now on we are going to ignore Cuts and use the variable $C$ to denote a configuration.\n",
    "\n",
    "Because chainweb graphs are are connected, a single row (or column) of a height different matrix determines\n",
    "all other rows (or column). A representation can thus pivot on the height difference\n",
    "vector for a single chain.\n",
    "\n",
    "Mining a chain increases all entries of the respective row and decreases all entries of the\n",
    "respective column (note that the values on the diagonal remain unchanged, i.e. are always zero).\n",
    "\n",
    "$$\n",
    "mine(C, c) =\n",
    "\\begin{cases}\n",
    "    C_{i,j} + 1\\,, \\text{ for } i\\neq j \\wedge i = c\\,, \\\\\n",
    "    C_{i,j} - 1\\,, \\text{ for } i\\neq j \\wedge j = c\\,, \\\\\n",
    "    C_{i,j}, \\text{ otherwise}\\,.\n",
    "\\end{cases}\n",
    "$$\n",
    "\n",
    "A chain $i$ has a dependency on a neighboring chain $j$ with $\\{i, j\\} \\in \\mathcal{E}$, if\n",
    "the entry of $j$ in row $i$ is larger than zero, or, generally, if in any row the entry for $j$ is\n",
    "larger than the entry for $i$.\n",
    "\n",
    "A chain $c$ is minable in a configuration $C$ if $c$ has no dependency on any of its neighboring chains.\n",
    "\n",
    "$$\n",
    "minable(C, c) \\text{ iff } \\forall i \\in \\mathcal{C}, \\{c, d\\} \\in \\mathcal{E}, C_{i,c} \\leq C_{i, d}\n",
    "$$\n",
    "\n",
    "We also use the function $minable$ to designate the set of chains that are minable in a configuration $C$:\n",
    "\n",
    "$$\n",
    "minable(C) = \\{c \\in \\mathcal{C} \\mid| minable(C,c) \\}\n",
    "$$\n",
    "\n",
    "Note, that the definition of a configuration and the minining function does not depend on the graph. Only\n",
    "the definition of minability is constrained by the chain graph $\\mathcal{G}$.\n",
    "\n",
    "A configuration $D$ is reachable from a configuration $C$ if there exists a sequence $(c_i)_{i \\in \\mathbb{\\N}}$\n",
    "of chains $c_i \\in \\mathcal{C}$, such that $ FIXME\n",
    "\n",
    "The empty configuration $I$ is the unique configuration in which all chains are minable. This configuration\n",
    "is defined as the initial configuration.\n",
    "\n",
    "$I_{i,j} = 0\\, \\text{ for all } $i,j \\in \\mathcal{C}$\n",
    "\n",
    "Since, there are only finitely many configurations, we obtain a finite automaton that models the\n",
    "transition between configurations that are reachable from the intial configuration.\n",
    "\n",
    "$$\n",
    "\\mathcal{A} = \\left( reachable(I),  \\right)\n",
    "$$\n",
    "\n",
    "\n",
    "### Configuration Markov Chain:\n",
    "\n",
    "Each transition to a new configuration corresponds to exactly one minable chain.\n",
    "In a chainweb the overall hash power is evenly distributed over all minable chains. For the purpose\n",
    "of this document we also assume that the overall hash power is constant.\n",
    "\n",
    "We can therefore assign to each outgoing transition in the configuration automaton a probability,\n",
    "where the probalities for the outgoing transitions of a given configuration are uniformily distributed.\n",
    "\n",
    "TODO: define $P$\n",
    "\n",
    "Each configuration that is reachable from the empty configuration can also reach the empty configuration.\n",
    "(Note, that the state space of the Markov chain is defined to only contain configurations that are\n",
    "reachable from the initial configuration.)\n",
    "From this is follows that the Markov chains is irreducible.\n",
    "\n",
    "To see this, note that mining a particular chain can only block this chain itself. It may unblock\n",
    "neighboring chains, but it can not cause any other chain to become blocked. As a consequence the \n",
    "empty configuration can be reached at any point by stopping to mine on chains that are furthest ahead\n",
    "and letting other chains catch up until all chains are at the same height.\n",
    "\n",
    "This also directyly implies that all reachable configurations are minable. Another reason is that\n",
    "\n",
    "Representation of Configurations as DAGs:\n",
    "\n",
    "In particular, the entries for neiboring vertexes are either 1, -1, or 0 and \n",
    "$Conf(C) \\mathcal{M}(\\mathcal{G})$ contains only entries of those values.\n",
    "\n",
    "TODO: the conf is determined by the entries for neighboring nodes. Only one value (0 or 1) per pair\n",
    "is needed.\n",
    "\n",
    "A chain is minable if it is not ahead of any direct neighbor chain. Each configuration corresponds to an\n",
    "acyclic directed subgraph of $\\mathcal{G}$ (the reverse is not true). \n",
    "A chain is mineable when there are no incoming edges.\n",
    "\n",
    "A configuration can be obtained from another configuration by mining a mineable chain. A chain is mined by\n",
    "\n",
    "*   removing all incoming edges of the chain and\n",
    "*   adding outgoing edges for each edge in $\\mathcal{G}$ that is not in the configuration.\n",
    "\n",
    "Note that if the original graph was acyclic, then the resulting graph is acyclic, too, because the source of\n",
    "all new edges has no incoming edges. Hence, the result of mining a minable chain on a configuration is indeed\n",
    "a configuration.\n",
    "\n",
    "Since, there are only finitely many configurations, we obtain a finite automaton that models the transition between\n",
    "configurations.\n",
    "\n",
    "The empty configuration is the unique configuration in which all chains are minable. This configuration\n",
    "is defined as the initial configuration.\n",
    "\n",
    "Each configuration that is reachable from the emtpy configuration can also reach the empty configuration.\n",
    "(Note, that the state space of the Markov chain is defined to only contain configurations that are\n",
    "reachable from the initial configuration.)\n",
    "From this is follows that the Markov chains is irreducible.\n",
    "\n",
    "To see this, note that mining a particular chain can only block this chain itself. It may unblock\n",
    "neighboring chains, but it can not cause any other chain to become blocked. As a consequence the \n",
    "empty configuration can be reached at any point by stopping to mine on chains that are furthest ahead\n",
    "and letting other chains catch up until all chains are at the same height.\n",
    "\n",
    "This also directyly implies that all reachable configurations are minable. Another reason is that\n",
    "a non-minable configuration would necessarily contain a cyclic dependency.\n",
    "\n",
    "TODO: can we provide an algebra? What are the group equations for the automaton?\n",
    "\n",
    "TODO: can we derive the quotient automaton with respect to the number of minable chains?\n",
    "\n",
    "Each transition changes the number of minable chains by $[-1, diameter many chains]$. That\n",
    "determines the diameter of the automaton and the length of cycles.\n",
    "\n",
    "### Continuous-Time Markov Chain on Configurations\n",
    "\n",
    "We assume that the overall hash power is constant and evenly distributed over all minable chains. Each transition\n",
    "to a new configuration corresponds to exactly one minable chain.\n",
    "\n",
    "The overall holding time for each configuration is thus distributed evenly across all minable chains. Therefore\n",
    "the transition rate between configurations is either the overall rate multiplied by the number of minable chains\n",
    "if there is a transition or 0 when there is no transition between the configurations.\n",
    "\n",
    "Overall, the transition between configurations can be modeled as a continuous-time Markov chain (CTMC) where the\n",
    "entries of the q matrix are either 0 or the number of minable chain in the source configuraton multiplied by\n",
    "the constant overall block rate of the chainweb.\n",
    "\n",
    "The initial configuration of the system is the empty configuration.\n",
    "\n",
    "Our goal is to analyize:\n",
    "\n",
    "*   How much time is spent in each configuration?\n",
    "*   How much time is spent on configurations with a given number of minable chains?\n",
    "*   For a given graph, how much time is spent on each chain? How is it distributed?\n",
    "*   What properties of the graph affect the distribution of time spent on each chain.\n",
    "*   Do all chains receive equal amounts of hash power?\n",
    "\n",
    "*   What are possible mining strategies? Should mining rewards depend on the hash power\n",
    "    that a chain receives? Or is that not needed? (or does chain selection for miners\n",
    "    involves a prisoner dilemma situation?)\n"
   ]
  },
  {
   "cell_type": "markdown",
   "metadata": {},
   "source": [
    "# Performance\n",
    "\n",
    "Across all chains the network produces on average 1 block height per 30 seconds, i.e. 2 blocks per minute.\n",
    "\n",
    "Due to the probabilistic nature of the block production process, chains do not advance evenly. As some chains advance and other\n",
    "fall behind, chains get become blocked.\n",
    "\n",
    "The amount of available hash power is constant and is distributed evenly across the unblocked chains. Hence the hash power that \n",
    "each configuration receives is the same. Similarly, each chain receives the same amount of hash power. \n",
    "However, depending on the number of blocked chains, the hash power is concentrated on a samller number of chains and hence that\n",
    "time spent on a configutration is shorter the more chains are blocked."
   ]
  },
  {
   "cell_type": "markdown",
   "metadata": {},
   "source": [
    "# Chainweb Graph"
   ]
  },
  {
   "cell_type": "markdown",
   "metadata": {},
   "source": [
    "We require the graph to be simple and represent it as adjacency matrix.\n",
    "(We choose a dense representation, because that turned out to be the most efficient with our implementation.)"
   ]
  },
  {
   "cell_type": "code",
   "execution_count": 90,
   "metadata": {},
   "outputs": [],
   "source": [
    "def mk_graph(graph):\n",
    "    g = np.array(graph.get_adjacency(), dtype=np.int8)\n",
    "    np.fill_diagonal(g, 0)\n",
    "    return g\n",
    "\n",
    "def order(g : np.ndarray) -> int:\n",
    "    return g.shape[0]"
   ]
  },
  {
   "cell_type": "markdown",
   "metadata": {},
   "source": [
    "# Implementations"
   ]
  },
  {
   "cell_type": "code",
   "execution_count": 91,
   "metadata": {},
   "outputs": [],
   "source": [
    "class Implementation[Conf, Graph](Protocol):\n",
    "    @staticmethod\n",
    "    def mk_graph(graph : ig.Graph) -> Graph:\n",
    "        pass\n",
    "\n",
    "    @staticmethod\n",
    "    def initial(g : Graph) -> Conf:\n",
    "        pass\n",
    "\n",
    "    @staticmethod\n",
    "    def hash(c : Conf) -> int:\n",
    "        pass\n",
    "\n",
    "    @staticmethod\n",
    "    def mine(g : Graph, c : Conf, i : int) -> Conf:\n",
    "        pass\n",
    "\n",
    "    @staticmethod\n",
    "    def minable(g : Graph, c : Conf) -> list[int]: \n",
    "        pass"
   ]
  },
  {
   "cell_type": "code",
   "execution_count": 92,
   "metadata": {},
   "outputs": [],
   "source": [
    "# Generic helper functions\n",
    "\n",
    "def init_conf1(g):\n",
    "    return np.zeros(order(g), dtype=np.int8)\n",
    "\n",
    "def init_conf2(g):\n",
    "    return np.zeros((order(g), order(g)), dtype=np.int8)\n",
    "    \n",
    "def hash_conf(c : np.ndarray) -> int:\n",
    "    return hash(c.data.tobytes())"
   ]
  },
  {
   "cell_type": "markdown",
   "metadata": {},
   "source": [
    "### Height Difference Vector Representation"
   ]
  },
  {
   "cell_type": "code",
   "execution_count": null,
   "metadata": {},
   "outputs": [],
   "source": [
    "# This representation exploits the fact that a single row and/or column uniquely determines\n",
    "# all other rows and/or columns in the matrix.\n",
    "#\n",
    "# We pivot on row zero.\n",
    "#\n",
    "# Mining chain zero means to increment the first row expect\n",
    "# for index zero.\n",
    "# Mining any other chain means to decrement the respective column\n",
    "# of row zero.\n",
    "#\n",
    "# Note that the first entry is always zero. We could remove the\n",
    "# column and adjust the algorithm, but the benefits are to small to\n",
    "# justify the added complexity.\n",
    "\n",
    "# Checking minability:\n",
    "# 1. mask c with each row of g to focus on neighbors\n",
    "# 2. check that the maximum entry for each row does not\n",
    "#    exceed the respective value for the row in c.\n",
    "    \n",
    "class HeightDifferenceVector(Implementation):\n",
    "\n",
    "    @staticmethod\n",
    "    def mk_graph(graph):\n",
    "        return mk_graph(graph)\n",
    "\n",
    "    @staticmethod\n",
    "    def hash(c):\n",
    "        return hash_conf(c)\n",
    "\n",
    "    @staticmethod\n",
    "    def initial(g):\n",
    "        return init_conf1(g)\n",
    "\n",
    "    @staticmethod\n",
    "    def minable(g, c):\n",
    "        return (np.where(g, c, -c.shape[0]).max(axis=1) <= c).nonzero()[0]\n",
    "        # slower\n",
    "        # return (np.broadcast_to(c, g.shape).max(axis=1, where=(g == 1),initial = -c.shape[0]) <= c).nonzero()[0]\n",
    "\n",
    "    pivot = 0\n",
    "\n",
    "    @staticmethod\n",
    "    def mine(_g, c, i):\n",
    "        r = c.copy()\n",
    "        if i == HeightDifferenceVector.pivot:\n",
    "            r[1:] += 1\n",
    "        else:\n",
    "            r[i] -= 1\n",
    "        return r"
   ]
  },
  {
   "cell_type": "markdown",
   "metadata": {},
   "source": [
    "# Configuration Automaton"
   ]
  },
  {
   "cell_type": "code",
   "execution_count": null,
   "metadata": {},
   "outputs": [],
   "source": [
    "type ConfsType[C] = dict[int, tuple[int, C, list[int]]]\n",
    "\n",
    "def mk_confs[Conf, Graph](impl : Implementation[Conf, Graph], graph : ig.Graph) -> ConfsType[Conf]:\n",
    "    g = impl.mk_graph(graph)\n",
    "    q = queue.SimpleQueue()\n",
    "    \n",
    "    confs={}\n",
    "    confs : ConfsType[Conf]\n",
    "\n",
    "    # add initial configuration to queue\n",
    "    idx = 0\n",
    "    i = impl.initial(g)\n",
    "    h = impl.hash(i)\n",
    "    confs[h] = (idx, i, [])\n",
    "    q.put(h)\n",
    "\n",
    "    while not q.empty():\n",
    "        h = q.get()\n",
    "        _, c, s = confs[h]\n",
    "        for i in impl.minable(g, c):\n",
    "            c_ = impl.mine(g, c, i)\n",
    "            h_ = impl.hash(c_)\n",
    "            if not h_ in confs:\n",
    "                idx += 1\n",
    "                h_idx = idx\n",
    "                confs[h_] = (h_idx, c_, [])\n",
    "                q.put(h_)\n",
    "            else:\n",
    "                assert (confs[h_][1] == c_).all()\n",
    "                h_idx = confs[h_][0] \n",
    "            s.append(h_idx)\n",
    "    return confs\n",
    "\n",
    "# Note that pickling pandas is very slow.\n",
    "def mk_confs_df[C](confs : ConfsType[C]) -> pd.DataFrame: \n",
    "    print(f\"mk_confs_df: {len(confs)}\"\n",
    "    df = pd.DataFrame(\n",
    "        data = [ (i, c, t, len(t)) for (_h, (i, c, t)) in confs.items() ],\n",
    "        columns=[ 'idx', 'conf', 'transitions', 'n'],\n",
    "    )\n",
    "    assert (df.index == df.idx).all()\n",
    "    df.drop(columns=['idx'], inplace=True)\n",
    "    print(f\"mk_confs_df done\")\n",
    "    return df\n",
    "\n",
    "@cache.cached(pickle_dir, \"mk_transitions\", refresh = refresh)\n",
    "def mk_transitions[Conf, Graph](impl : Implementation[Conf, Graph], graph : ig.Graph) -> pd.DataFrame:\n",
    "    return mk_confs_df(mk_confs(impl, graph))\n"
   ]
  },
  {
   "cell_type": "markdown",
   "metadata": {},
   "source": [
    "### Configuration Automaton For Petersen"
   ]
  },
  {
   "cell_type": "code",
   "execution_count": 308,
   "metadata": {},
   "outputs": [],
   "source": [
    "refresh = True"
   ]
  },
  {
   "cell_type": "code",
   "execution_count": 313,
   "metadata": {},
   "outputs": [
    {
     "name": "stdout",
     "output_type": "stream",
     "text": [
      "CPU times: user 70.6 ms, sys: 11.1 ms, total: 81.7 ms\n",
      "Wall time: 75.7 ms\n"
     ]
    },
    {
     "data": {
      "text/plain": [
       "2613"
      ]
     },
     "execution_count": 313,
     "metadata": {},
     "output_type": "execute_result"
    }
   ],
   "source": [
    "%time petersen_confs_hdv = mk_transitions(HeightDifferenceVector, graphs.Petersen, cache_suffix='petersen_hdv')\n",
    "len(petersen_confs_hdv)"
   ]
  },
  {
   "cell_type": "code",
   "execution_count": 311,
   "metadata": {},
   "outputs": [
    {
     "data": {
      "text/html": [
       "<div>\n",
       "<style scoped>\n",
       "    .dataframe tbody tr th:only-of-type {\n",
       "        vertical-align: middle;\n",
       "    }\n",
       "\n",
       "    .dataframe tbody tr th {\n",
       "        vertical-align: top;\n",
       "    }\n",
       "\n",
       "    .dataframe thead th {\n",
       "        text-align: right;\n",
       "    }\n",
       "</style>\n",
       "<table border=\"1\" class=\"dataframe\">\n",
       "  <thead>\n",
       "    <tr style=\"text-align: right;\">\n",
       "      <th></th>\n",
       "      <th>conf</th>\n",
       "      <th>transitions</th>\n",
       "      <th>n</th>\n",
       "    </tr>\n",
       "  </thead>\n",
       "  <tbody>\n",
       "    <tr>\n",
       "      <th>0</th>\n",
       "      <td>[0, 0, 0, 0, 0, 0, 0, 0, 0, 0]</td>\n",
       "      <td>[1, 2, 3, 4, 5, 6, 7, 8, 9, 10]</td>\n",
       "      <td>10</td>\n",
       "    </tr>\n",
       "    <tr>\n",
       "      <th>1</th>\n",
       "      <td>[0, 1, 1, 1, 1, 1, 1, 1, 1, 1]</td>\n",
       "      <td>[11, 12, 13, 14, 15, 16, 17, 18, 19]</td>\n",
       "      <td>9</td>\n",
       "    </tr>\n",
       "    <tr>\n",
       "      <th>2</th>\n",
       "      <td>[0, -1, 0, 0, 0, 0, 0, 0, 0, 0]</td>\n",
       "      <td>[11, 20, 21, 22, 23, 24, 25, 26, 27]</td>\n",
       "      <td>9</td>\n",
       "    </tr>\n",
       "    <tr>\n",
       "      <th>3</th>\n",
       "      <td>[0, 0, -1, 0, 0, 0, 0, 0, 0, 0]</td>\n",
       "      <td>[12, 20, 28, 29, 30, 31, 32, 33, 34]</td>\n",
       "      <td>9</td>\n",
       "    </tr>\n",
       "    <tr>\n",
       "      <th>4</th>\n",
       "      <td>[0, 0, 0, -1, 0, 0, 0, 0, 0, 0]</td>\n",
       "      <td>[13, 21, 28, 35, 36, 37, 38, 39, 40]</td>\n",
       "      <td>9</td>\n",
       "    </tr>\n",
       "    <tr>\n",
       "      <th>...</th>\n",
       "      <td>...</td>\n",
       "      <td>...</td>\n",
       "      <td>...</td>\n",
       "    </tr>\n",
       "    <tr>\n",
       "      <th>2608</th>\n",
       "      <td>[0, 1, 1, 0, 2, 0, 0, 0, 0, 1]</td>\n",
       "      <td>[787]</td>\n",
       "      <td>1</td>\n",
       "    </tr>\n",
       "    <tr>\n",
       "      <th>2609</th>\n",
       "      <td>[0, 0, -1, 1, -1, -1, -1, -1, 0, -1]</td>\n",
       "      <td>[896]</td>\n",
       "      <td>1</td>\n",
       "    </tr>\n",
       "    <tr>\n",
       "      <th>2610</th>\n",
       "      <td>[0, -1, 1, -1, 0, -1, -1, 0, -1, -1]</td>\n",
       "      <td>[864]</td>\n",
       "      <td>1</td>\n",
       "    </tr>\n",
       "    <tr>\n",
       "      <th>2611</th>\n",
       "      <td>[0, 2, 0, 1, 1, 0, 1, 0, 0, 0]</td>\n",
       "      <td>[774]</td>\n",
       "      <td>1</td>\n",
       "    </tr>\n",
       "    <tr>\n",
       "      <th>2612</th>\n",
       "      <td>[0, -2, -1, -1, -2, -1, -2, -2, -2, -2]</td>\n",
       "      <td>[874]</td>\n",
       "      <td>1</td>\n",
       "    </tr>\n",
       "  </tbody>\n",
       "</table>\n",
       "<p>2613 rows × 3 columns</p>\n",
       "</div>"
      ],
      "text/plain": [
       "                                         conf  \\\n",
       "0              [0, 0, 0, 0, 0, 0, 0, 0, 0, 0]   \n",
       "1              [0, 1, 1, 1, 1, 1, 1, 1, 1, 1]   \n",
       "2             [0, -1, 0, 0, 0, 0, 0, 0, 0, 0]   \n",
       "3             [0, 0, -1, 0, 0, 0, 0, 0, 0, 0]   \n",
       "4             [0, 0, 0, -1, 0, 0, 0, 0, 0, 0]   \n",
       "...                                       ...   \n",
       "2608           [0, 1, 1, 0, 2, 0, 0, 0, 0, 1]   \n",
       "2609     [0, 0, -1, 1, -1, -1, -1, -1, 0, -1]   \n",
       "2610     [0, -1, 1, -1, 0, -1, -1, 0, -1, -1]   \n",
       "2611           [0, 2, 0, 1, 1, 0, 1, 0, 0, 0]   \n",
       "2612  [0, -2, -1, -1, -2, -1, -2, -2, -2, -2]   \n",
       "\n",
       "                               transitions   n  \n",
       "0          [1, 2, 3, 4, 5, 6, 7, 8, 9, 10]  10  \n",
       "1     [11, 12, 13, 14, 15, 16, 17, 18, 19]   9  \n",
       "2     [11, 20, 21, 22, 23, 24, 25, 26, 27]   9  \n",
       "3     [12, 20, 28, 29, 30, 31, 32, 33, 34]   9  \n",
       "4     [13, 21, 28, 35, 36, 37, 38, 39, 40]   9  \n",
       "...                                    ...  ..  \n",
       "2608                                 [787]   1  \n",
       "2609                                 [896]   1  \n",
       "2610                                 [864]   1  \n",
       "2611                                 [774]   1  \n",
       "2612                                 [874]   1  \n",
       "\n",
       "[2613 rows x 3 columns]"
      ]
     },
     "execution_count": 311,
     "metadata": {},
     "output_type": "execute_result"
    }
   ],
   "source": [
    "petersen_confs_hdv"
   ]
  },
  {
   "cell_type": "code",
   "execution_count": 314,
   "metadata": {},
   "outputs": [],
   "source": [
    "petersen_confs = petersen_confs_hdv"
   ]
  },
  {
   "cell_type": "code",
   "execution_count": 316,
   "metadata": {},
   "outputs": [
    {
     "data": {
      "text/plain": [
       "n\n",
       "1      10\n",
       "2     105\n",
       "3     420\n",
       "4     790\n",
       "5     732\n",
       "6     360\n",
       "7     140\n",
       "8      45\n",
       "9      10\n",
       "10      1\n",
       "Name: conf, dtype: int64"
      ]
     },
     "execution_count": 316,
     "metadata": {},
     "output_type": "execute_result"
    }
   ],
   "source": [
    "petersen_confs.groupby('n')['conf'].count()"
   ]
  },
  {
   "cell_type": "code",
   "execution_count": 317,
   "metadata": {},
   "outputs": [
    {
     "data": {
      "image/png": "[encoded data removed]",
      "text/plain": [
       "<Figure size 1400x600 with 1 Axes>"
      ]
     },
     "metadata": {},
     "output_type": "display_data"
    }
   ],
   "source": [
    "sns.histplot(petersen_confs.n / 10, bins=10)\n",
    "plt.show()"
   ]
  },
  {
   "cell_type": "markdown",
   "metadata": {},
   "source": [
    "### Configuration Automaton For Twenty"
   ]
  },
  {
   "cell_type": "code",
   "execution_count": 319,
   "metadata": {},
   "outputs": [
    {
     "name": "stdout",
     "output_type": "stream",
     "text": [
      "CPU times: user 26 s, sys: 508 ms, total: 26.5 s\n",
      "Wall time: 27.1 s\n"
     ]
    },
    {
     "data": {
      "text/plain": [
       "13238551"
      ]
     },
     "execution_count": 319,
     "metadata": {},
     "output_type": "execute_result"
    }
   ],
   "source": [
    "# Pickling with gzip compression is extremly slow, about 30min for 6GB (resulting in 600MB).\n",
    "# Just pickling without compresssion takes about 1min.\n",
    "# Just recomputing the data takes about 6min\n",
    "# Loading from disk takes only 40s.\n",
    "# storing the columns uncompressed as numpy arrays is in the order of seconds.\n",
    "#\n",
    "# reading is always fast.\n",
    "#\n",
    "# TODO find out whether df.to_pickle and pickle.dump are equivalent.\n",
    "#\n",
    "%time twenty_confs_hdv = mk_transitions(HeightDifferenceMatrix, graphs.Twenty, cache_suffix='twenty_hdv', cache_refresh=False)\n",
    "len(twenty_confs_hdv)"
   ]
  },
  {
   "cell_type": "code",
   "execution_count": 320,
   "metadata": {},
   "outputs": [],
   "source": [
    "twenty_confs = twenty_confs_hdv"
   ]
  },
  {
   "cell_type": "code",
   "execution_count": 321,
   "metadata": {},
   "outputs": [
    {
     "data": {
      "text/plain": [
       "n\n",
       "1          20\n",
       "2         710\n",
       "3       10140\n",
       "4       76705\n",
       "5      344884\n",
       "6      993050\n",
       "7     1946140\n",
       "8     2726790\n",
       "9     2817200\n",
       "10    2174600\n",
       "11    1264930\n",
       "12     570420\n",
       "13     213360\n",
       "14      71260\n",
       "15      21406\n",
       "16       5545\n",
       "17       1180\n",
       "18        190\n",
       "19         20\n",
       "20          1\n",
       "Name: conf, dtype: int64"
      ]
     },
     "execution_count": 321,
     "metadata": {},
     "output_type": "execute_result"
    }
   ],
   "source": [
    "twenty_confs.groupby('n').conf.count()"
   ]
  },
  {
   "cell_type": "code",
   "execution_count": 322,
   "metadata": {},
   "outputs": [
    {
     "data": {
      "image/png": "[encoded data removed]",
      "text/plain": [
       "<Figure size 1400x600 with 1 Axes>"
      ]
     },
     "metadata": {},
     "output_type": "display_data"
    }
   ],
   "source": [
    "sns.histplot(twenty_confs.n / 20, bins=20)\n",
    "plt.show()"
   ]
  },
  {
   "cell_type": "markdown",
   "metadata": {},
   "source": [
    "### Overview"
   ]
  },
  {
   "cell_type": "code",
   "execution_count": 337,
   "metadata": {},
   "outputs": [
    {
     "data": {
      "text/html": [
       "<div>\n",
       "<style scoped>\n",
       "    .dataframe tbody tr th:only-of-type {\n",
       "        vertical-align: middle;\n",
       "    }\n",
       "\n",
       "    .dataframe tbody tr th {\n",
       "        vertical-align: top;\n",
       "    }\n",
       "\n",
       "    .dataframe thead th {\n",
       "        text-align: right;\n",
       "    }\n",
       "</style>\n",
       "<table border=\"1\" class=\"dataframe\">\n",
       "  <thead>\n",
       "    <tr style=\"text-align: right;\">\n",
       "      <th></th>\n",
       "      <th>order</th>\n",
       "      <th>avg out degree</th>\n",
       "      <th>densitity</th>\n",
       "    </tr>\n",
       "  </thead>\n",
       "  <tbody>\n",
       "    <tr>\n",
       "      <th>Petersen</th>\n",
       "      <td>2613</td>\n",
       "      <td>4.554152</td>\n",
       "      <td>0.455415</td>\n",
       "    </tr>\n",
       "    <tr>\n",
       "      <th>Twenty</th>\n",
       "      <td>13238551</td>\n",
       "      <td>8.726316</td>\n",
       "      <td>0.436316</td>\n",
       "    </tr>\n",
       "  </tbody>\n",
       "</table>\n",
       "</div>"
      ],
      "text/plain": [
       "             order  avg out degree  densitity\n",
       "Petersen      2613        4.554152   0.455415\n",
       "Twenty    13238551        8.726316   0.436316"
      ]
     },
     "execution_count": 337,
     "metadata": {},
     "output_type": "execute_result"
    }
   ],
   "source": [
    "pd.DataFrame(\n",
    "{ \n",
    "    \"order\" : [ len(petersen_confs), len(twenty_confs) ],\n",
    "    \"avg out degree\": [ petersen_confs.n.mean(), twenty_confs.n.mean()], \n",
    "    \"densitity\" : [ petersen_confs.n.mean() /10, twenty_confs.n.mean() / 20 ],\n",
    "},\n",
    "index=['Petersen', 'Twenty'],\n",
    ")"
   ]
  },
  {
   "cell_type": "markdown",
   "metadata": {},
   "source": [
    "# Stationary Distribution"
   ]
  },
  {
   "cell_type": "markdown",
   "metadata": {},
   "source": [
    "The following computes the stationary distribution of the *discrete* time Markov chain. Note, that\n",
    "the (right) stochastic matrix of the Markov chain is irreducible.\n",
    "\n",
    "We only count how often configurations are visited and how many chains are minable in each step.\n",
    "\n",
    "However, the system remains varying amounts of times in those configurations. \n",
    "In fact, the time that is spent in a given configuration is proportional to the number of\n",
    "minable chains."
   ]
  },
  {
   "cell_type": "code",
   "execution_count": 576,
   "metadata": {},
   "outputs": [],
   "source": [
    "def sparse_transition_matrix(confs):\n",
    "    n = len(confs)\n",
    "    t = sp.sparse.lil_array((n,n), dtype=np.float64)\n",
    "    t.rows = np.array(confs['transitions'])\n",
    "    t.data = confs['n'].apply(lambda x: list(np.full(x, 1 / x, dtype=np.float64))).to_numpy()\n",
    "    return t\n",
    "\n",
    "\n",
    "def get_stationary(T, n = 1000):\n",
    "    d = T.shape[0]\n",
    "    pi = np.full((1, d), 1 / d, dtype=np.float64)\n",
    "    i = 0\n",
    "    while i < n:\n",
    "        new_pi = T @ pi.T\n",
    "        # if np.allclose(pi, new_pi, atol=1e-10, rtol=1e-10):\n",
    "        # if np.abs(pi - new_pi).max() < 1e-10:\n",
    "        #     print('done')\n",
    "        #     return new_pi[0] \n",
    "        pi = new_pi.T\n",
    "        i += 1\n",
    "    return pi[0]\n"
   ]
  },
  {
   "cell_type": "code",
   "execution_count": 546,
   "metadata": {},
   "outputs": [
    {
     "name": "stdout",
     "output_type": "stream",
     "text": [
      "CPU times: user 62.5 ms, sys: 661 µs, total: 63.2 ms\n",
      "Wall time: 64.1 ms\n"
     ]
    },
    {
     "data": {
      "text/html": [
       "<div>\n",
       "<style scoped>\n",
       "    .dataframe tbody tr th:only-of-type {\n",
       "        vertical-align: middle;\n",
       "    }\n",
       "\n",
       "    .dataframe tbody tr th {\n",
       "        vertical-align: top;\n",
       "    }\n",
       "\n",
       "    .dataframe thead th {\n",
       "        text-align: right;\n",
       "    }\n",
       "</style>\n",
       "<table border=\"1\" class=\"dataframe\">\n",
       "  <thead>\n",
       "    <tr style=\"text-align: right;\">\n",
       "      <th></th>\n",
       "      <th>pi</th>\n",
       "    </tr>\n",
       "    <tr>\n",
       "      <th>n</th>\n",
       "      <th></th>\n",
       "    </tr>\n",
       "  </thead>\n",
       "  <tbody>\n",
       "    <tr>\n",
       "      <th>1</th>\n",
       "      <td>0.018846</td>\n",
       "    </tr>\n",
       "    <tr>\n",
       "      <th>2</th>\n",
       "      <td>0.048063</td>\n",
       "    </tr>\n",
       "    <tr>\n",
       "      <th>3</th>\n",
       "      <td>0.115250</td>\n",
       "    </tr>\n",
       "    <tr>\n",
       "      <th>4</th>\n",
       "      <td>0.243113</td>\n",
       "    </tr>\n",
       "    <tr>\n",
       "      <th>5</th>\n",
       "      <td>0.323074</td>\n",
       "    </tr>\n",
       "    <tr>\n",
       "      <th>6</th>\n",
       "      <td>0.147956</td>\n",
       "    </tr>\n",
       "    <tr>\n",
       "      <th>7</th>\n",
       "      <td>0.064674</td>\n",
       "    </tr>\n",
       "    <tr>\n",
       "      <th>8</th>\n",
       "      <td>0.024312</td>\n",
       "    </tr>\n",
       "    <tr>\n",
       "      <th>9</th>\n",
       "      <td>0.011465</td>\n",
       "    </tr>\n",
       "    <tr>\n",
       "      <th>10</th>\n",
       "      <td>0.003248</td>\n",
       "    </tr>\n",
       "  </tbody>\n",
       "</table>\n",
       "</div>"
      ],
      "text/plain": [
       "          pi\n",
       "n           \n",
       "1   0.018846\n",
       "2   0.048063\n",
       "3   0.115250\n",
       "4   0.243113\n",
       "5   0.323074\n",
       "6   0.147956\n",
       "7   0.064674\n",
       "8   0.024312\n",
       "9   0.011465\n",
       "10  0.003248"
      ]
     },
     "execution_count": 546,
     "metadata": {},
     "output_type": "execute_result"
    }
   ],
   "source": [
    "stm = sparse_transition_matrix(petersen_confs).tocsc()\n",
    "%time petersen_confs['pi'] = get_stationary(stm, n = 2000)\n",
    "petersen_confs.groupby('n')[['pi']].sum()"
   ]
  },
  {
   "cell_type": "code",
   "execution_count": 549,
   "metadata": {},
   "outputs": [],
   "source": [
    "twenty_tm = sparse_transition_matrix(twenty_confs)"
   ]
  },
  {
   "cell_type": "code",
   "execution_count": 550,
   "metadata": {},
   "outputs": [],
   "source": [
    "twenty_tm_csc = twenty_tm.tocsc()"
   ]
  },
  {
   "cell_type": "code",
   "execution_count": 551,
   "metadata": {},
   "outputs": [],
   "source": [
    "twenty_tm_csr = twenty_tm.tocsr() # this seems to be faster"
   ]
  },
  {
   "cell_type": "code",
   "execution_count": 589,
   "metadata": {},
   "outputs": [
    {
     "name": "stdout",
     "output_type": "stream",
     "text": [
      "CPU times: user 7.79 s, sys: 326 ms, total: 8.11 s\n",
      "Wall time: 8.41 s\n"
     ]
    }
   ],
   "source": [
    "%time twenty_confs['pi'] = get_stationary(twenty_tm_csr, n = 100)"
   ]
  },
  {
   "cell_type": "code",
   "execution_count": 590,
   "metadata": {},
   "outputs": [
    {
     "data": {
      "text/html": [
       "<div>\n",
       "<style scoped>\n",
       "    .dataframe tbody tr th:only-of-type {\n",
       "        vertical-align: middle;\n",
       "    }\n",
       "\n",
       "    .dataframe tbody tr th {\n",
       "        vertical-align: top;\n",
       "    }\n",
       "\n",
       "    .dataframe thead th {\n",
       "        text-align: right;\n",
       "    }\n",
       "</style>\n",
       "<table border=\"1\" class=\"dataframe\">\n",
       "  <thead>\n",
       "    <tr style=\"text-align: right;\">\n",
       "      <th></th>\n",
       "      <th>pi</th>\n",
       "    </tr>\n",
       "    <tr>\n",
       "      <th>n</th>\n",
       "      <th></th>\n",
       "    </tr>\n",
       "  </thead>\n",
       "  <tbody>\n",
       "    <tr>\n",
       "      <th>1</th>\n",
       "      <td>1.510739e-06</td>\n",
       "    </tr>\n",
       "    <tr>\n",
       "      <th>2</th>\n",
       "      <td>5.363125e-05</td>\n",
       "    </tr>\n",
       "    <tr>\n",
       "      <th>3</th>\n",
       "      <td>7.659449e-04</td>\n",
       "    </tr>\n",
       "    <tr>\n",
       "      <th>4</th>\n",
       "      <td>5.794063e-03</td>\n",
       "    </tr>\n",
       "    <tr>\n",
       "      <th>5</th>\n",
       "      <td>2.605149e-02</td>\n",
       "    </tr>\n",
       "    <tr>\n",
       "      <th>6</th>\n",
       "      <td>7.501199e-02</td>\n",
       "    </tr>\n",
       "    <tr>\n",
       "      <th>7</th>\n",
       "      <td>1.470055e-01</td>\n",
       "    </tr>\n",
       "    <tr>\n",
       "      <th>8</th>\n",
       "      <td>2.059734e-01</td>\n",
       "    </tr>\n",
       "    <tr>\n",
       "      <th>9</th>\n",
       "      <td>2.128027e-01</td>\n",
       "    </tr>\n",
       "    <tr>\n",
       "      <th>10</th>\n",
       "      <td>1.642627e-01</td>\n",
       "    </tr>\n",
       "    <tr>\n",
       "      <th>11</th>\n",
       "      <td>9.554898e-02</td>\n",
       "    </tr>\n",
       "    <tr>\n",
       "      <th>12</th>\n",
       "      <td>4.308780e-02</td>\n",
       "    </tr>\n",
       "    <tr>\n",
       "      <th>13</th>\n",
       "      <td>1.611657e-02</td>\n",
       "    </tr>\n",
       "    <tr>\n",
       "      <th>14</th>\n",
       "      <td>5.382764e-03</td>\n",
       "    </tr>\n",
       "    <tr>\n",
       "      <th>15</th>\n",
       "      <td>1.616944e-03</td>\n",
       "    </tr>\n",
       "    <tr>\n",
       "      <th>16</th>\n",
       "      <td>4.188525e-04</td>\n",
       "    </tr>\n",
       "    <tr>\n",
       "      <th>17</th>\n",
       "      <td>8.913362e-05</td>\n",
       "    </tr>\n",
       "    <tr>\n",
       "      <th>18</th>\n",
       "      <td>1.435202e-05</td>\n",
       "    </tr>\n",
       "    <tr>\n",
       "      <th>19</th>\n",
       "      <td>1.510739e-06</td>\n",
       "    </tr>\n",
       "    <tr>\n",
       "      <th>20</th>\n",
       "      <td>7.553697e-08</td>\n",
       "    </tr>\n",
       "  </tbody>\n",
       "</table>\n",
       "</div>"
      ],
      "text/plain": [
       "              pi\n",
       "n               \n",
       "1   1.510739e-06\n",
       "2   5.363125e-05\n",
       "3   7.659449e-04\n",
       "4   5.794063e-03\n",
       "5   2.605149e-02\n",
       "6   7.501199e-02\n",
       "7   1.470055e-01\n",
       "8   2.059734e-01\n",
       "9   2.128027e-01\n",
       "10  1.642627e-01\n",
       "11  9.554898e-02\n",
       "12  4.308780e-02\n",
       "13  1.611657e-02\n",
       "14  5.382764e-03\n",
       "15  1.616944e-03\n",
       "16  4.188525e-04\n",
       "17  8.913362e-05\n",
       "18  1.435202e-05\n",
       "19  1.510739e-06\n",
       "20  7.553697e-08"
      ]
     },
     "execution_count": 590,
     "metadata": {},
     "output_type": "execute_result"
    }
   ],
   "source": [
    "twenty_confs.groupby('n')[['pi']].sum()"
   ]
  },
  {
   "cell_type": "markdown",
   "metadata": {},
   "source": [
    "## Sampling\n",
    "\n",
    "We use the explicitly computed stationary distribution for the Petersen graph to validate how well distributions of configurations can be sampled."
   ]
  },
  {
   "cell_type": "code",
   "execution_count": 595,
   "metadata": {},
   "outputs": [],
   "source": [
    "# This code is probably not efficient for larger graphs\n",
    "def sample(g, n):\n",
    "    c = HeightDifferenceVector.initial(g)\n",
    "    r = np.zeros(n, dtype=np.uint64)\n",
    "    for i in range(n):\n",
    "        m = HeightDifferenceVector.minable(g, c)\n",
    "        r[i] = len(m)\n",
    "        i = np.random.choice(m)\n",
    "        c = HeightDifferenceVector.mine(g, c, i)\n",
    "    return r"
   ]
  },
  {
   "cell_type": "code",
   "execution_count": 596,
   "metadata": {},
   "outputs": [],
   "source": [
    "def run_samples(graph, ns):\n",
    "    g = mk_graph(graph)\n",
    "    hists = pd.DataFrame(index=range(1,g.shape[0]+1))\n",
    "    stats = pd.DataFrame(index=['n', 'mean', 'std'])\n",
    "    for i in ns:\n",
    "        l = f\"e{i}\"\n",
    "        print(f\"{l}\", end=' ')\n",
    "        r = sample(g, 10**i)\n",
    "        hists[l] = pd.Series(r).value_counts(normalize=True,sort=False)\n",
    "        stats[l] = [len(r), r.mean(), r.std()]\n",
    "    return hists, stats"
   ]
  },
  {
   "cell_type": "code",
   "execution_count": 597,
   "metadata": {},
   "outputs": [],
   "source": [
    "def plot_columns(df):\n",
    "    x = df.reset_index().melt(id_vars='index', var_name='n', value_name='p')\n",
    "    sns.barplot(data=x, x='index', y='p', hue='n')"
   ]
  },
  {
   "cell_type": "markdown",
   "metadata": {},
   "source": [
    "### Sample Petersen Graph"
   ]
  },
  {
   "cell_type": "code",
   "execution_count": 598,
   "metadata": {},
   "outputs": [
    {
     "name": "stdout",
     "output_type": "stream",
     "text": [
      "e3 e4 e5 e6 e7 "
     ]
    },
    {
     "data": {
      "text/html": [
       "<div>\n",
       "<style scoped>\n",
       "    .dataframe tbody tr th:only-of-type {\n",
       "        vertical-align: middle;\n",
       "    }\n",
       "\n",
       "    .dataframe tbody tr th {\n",
       "        vertical-align: top;\n",
       "    }\n",
       "\n",
       "    .dataframe thead th {\n",
       "        text-align: right;\n",
       "    }\n",
       "</style>\n",
       "<table border=\"1\" class=\"dataframe\">\n",
       "  <thead>\n",
       "    <tr style=\"text-align: right;\">\n",
       "      <th></th>\n",
       "      <th>e3</th>\n",
       "      <th>e4</th>\n",
       "      <th>e5</th>\n",
       "      <th>e6</th>\n",
       "      <th>e7</th>\n",
       "    </tr>\n",
       "  </thead>\n",
       "  <tbody>\n",
       "    <tr>\n",
       "      <th>n</th>\n",
       "      <td>1000.000000</td>\n",
       "      <td>10000.00000</td>\n",
       "      <td>100000.000000</td>\n",
       "      <td>1000000.000000</td>\n",
       "      <td>1.000000e+07</td>\n",
       "    </tr>\n",
       "    <tr>\n",
       "      <th>mean</th>\n",
       "      <td>4.793000</td>\n",
       "      <td>4.76010</td>\n",
       "      <td>4.713270</td>\n",
       "      <td>4.724294</td>\n",
       "      <td>4.717513e+00</td>\n",
       "    </tr>\n",
       "    <tr>\n",
       "      <th>std</th>\n",
       "      <td>1.542774</td>\n",
       "      <td>1.53315</td>\n",
       "      <td>1.508229</td>\n",
       "      <td>1.517320</td>\n",
       "      <td>1.514381e+00</td>\n",
       "    </tr>\n",
       "  </tbody>\n",
       "</table>\n",
       "</div>"
      ],
      "text/plain": [
       "               e3           e4             e5              e6            e7\n",
       "n     1000.000000  10000.00000  100000.000000  1000000.000000  1.000000e+07\n",
       "mean     4.793000      4.76010       4.713270        4.724294  4.717513e+00\n",
       "std      1.542774      1.53315       1.508229        1.517320  1.514381e+00"
      ]
     },
     "execution_count": 598,
     "metadata": {},
     "output_type": "execute_result"
    }
   ],
   "source": [
    "petersen_hists, petersen_stats = run_samples(graphs.Petersen, [3,4,5,6,7])\n",
    "petersen_stats"
   ]
  },
  {
   "cell_type": "code",
   "execution_count": 599,
   "metadata": {},
   "outputs": [
    {
     "data": {
      "image/png": "[encoded data removed]",
      "text/plain": [
       "<Figure size 1400x600 with 1 Axes>"
      ]
     },
     "metadata": {},
     "output_type": "display_data"
    }
   ],
   "source": [
    "petersen_hists['pi'] = petersen_confs.groupby('n')['pi'].sum()\n",
    "plot_columns(petersen_hists)"
   ]
  },
  {
   "cell_type": "markdown",
   "metadata": {},
   "source": [
    "We can conclude that sampling works reasonable well for the Petersen graph if the size of the sample is on the order of the number configurations."
   ]
  },
  {
   "cell_type": "markdown",
   "metadata": {},
   "source": [
    "### Sample Twenty Chain Graph"
   ]
  },
  {
   "cell_type": "code",
   "execution_count": 600,
   "metadata": {},
   "outputs": [
    {
     "name": "stdout",
     "output_type": "stream",
     "text": [
      "e4 e5 e6 e7 "
     ]
    },
    {
     "data": {
      "text/html": [
       "<div>\n",
       "<style scoped>\n",
       "    .dataframe tbody tr th:only-of-type {\n",
       "        vertical-align: middle;\n",
       "    }\n",
       "\n",
       "    .dataframe tbody tr th {\n",
       "        vertical-align: top;\n",
       "    }\n",
       "\n",
       "    .dataframe thead th {\n",
       "        text-align: right;\n",
       "    }\n",
       "</style>\n",
       "<table border=\"1\" class=\"dataframe\">\n",
       "  <thead>\n",
       "    <tr style=\"text-align: right;\">\n",
       "      <th></th>\n",
       "      <th>e4</th>\n",
       "      <th>e5</th>\n",
       "      <th>e6</th>\n",
       "      <th>e7</th>\n",
       "    </tr>\n",
       "  </thead>\n",
       "  <tbody>\n",
       "    <tr>\n",
       "      <th>n</th>\n",
       "      <td>10000.000000</td>\n",
       "      <td>100000.000000</td>\n",
       "      <td>1000000.000000</td>\n",
       "      <td>1.000000e+07</td>\n",
       "    </tr>\n",
       "    <tr>\n",
       "      <th>mean</th>\n",
       "      <td>8.239200</td>\n",
       "      <td>8.348840</td>\n",
       "      <td>8.292393</td>\n",
       "      <td>8.291822e+00</td>\n",
       "    </tr>\n",
       "    <tr>\n",
       "      <th>std</th>\n",
       "      <td>2.258093</td>\n",
       "      <td>2.174813</td>\n",
       "      <td>2.191469</td>\n",
       "      <td>2.188144e+00</td>\n",
       "    </tr>\n",
       "  </tbody>\n",
       "</table>\n",
       "</div>"
      ],
      "text/plain": [
       "                e4             e5              e6            e7\n",
       "n     10000.000000  100000.000000  1000000.000000  1.000000e+07\n",
       "mean      8.239200       8.348840        8.292393  8.291822e+00\n",
       "std       2.258093       2.174813        2.191469  2.188144e+00"
      ]
     },
     "execution_count": 600,
     "metadata": {},
     "output_type": "execute_result"
    }
   ],
   "source": [
    "twenty_hists, twenty_stats = run_samples(graphs.Twenty, [4,5,6,7])\n",
    "twenty_stats"
   ]
  },
  {
   "cell_type": "code",
   "execution_count": 601,
   "metadata": {},
   "outputs": [
    {
     "data": {
      "image/png": "[encoded data removed]",
      "text/plain": [
       "<Figure size 1400x600 with 1 Axes>"
      ]
     },
     "metadata": {},
     "output_type": "display_data"
    }
   ],
   "source": [
    "twenty_hists['pi'] = twenty_confs.groupby('n')['pi'].sum()\n",
    "plot_columns(twenty_hists)"
   ]
  },
  {
   "cell_type": "markdown",
   "metadata": {},
   "source": [
    "TODO: explain the discrepancy between the sampled distribution and the computed stationary distribution of the Markov chain.\n",
    "\n",
    "One explanation would be if the stochastic matrix is reducible (i.e. contained states that are not reachable from the initial distribution.)\n",
    "However, we proved that the chain is irreducible, by showing that the initial configuration is reachable from each configuration\n",
    "that is reachable from the intial configuration."
   ]
  },
  {
   "cell_type": "markdown",
   "metadata": {},
   "source": [
    "### Sample Hoffman-Singleton Graph"
   ]
  },
  {
   "cell_type": "markdown",
   "metadata": {},
   "source": [
    "We cannot compute the statonary distribution explicitely from the transition matrix for larger graphs. Instead we verify that random sampling\n",
    "results in stable results."
   ]
  },
  {
   "cell_type": "code",
   "execution_count": 28,
   "metadata": {},
   "outputs": [
    {
     "name": "stdout",
     "output_type": "stream",
     "text": [
      "e5 e6 e7 "
     ]
    },
    {
     "data": {
      "text/html": [
       "<div>\n",
       "<style scoped>\n",
       "    .dataframe tbody tr th:only-of-type {\n",
       "        vertical-align: middle;\n",
       "    }\n",
       "\n",
       "    .dataframe tbody tr th {\n",
       "        vertical-align: top;\n",
       "    }\n",
       "\n",
       "    .dataframe thead th {\n",
       "        text-align: right;\n",
       "    }\n",
       "</style>\n",
       "<table border=\"1\" class=\"dataframe\">\n",
       "  <thead>\n",
       "    <tr style=\"text-align: right;\">\n",
       "      <th></th>\n",
       "      <th>e5</th>\n",
       "      <th>e6</th>\n",
       "      <th>e7</th>\n",
       "    </tr>\n",
       "  </thead>\n",
       "  <tbody>\n",
       "    <tr>\n",
       "      <th>n</th>\n",
       "      <td>100000.000000</td>\n",
       "      <td>1000000.000000</td>\n",
       "      <td>1.000000e+07</td>\n",
       "    </tr>\n",
       "    <tr>\n",
       "      <th>mean</th>\n",
       "      <td>16.916790</td>\n",
       "      <td>16.942505</td>\n",
       "      <td>1.695581e+01</td>\n",
       "    </tr>\n",
       "    <tr>\n",
       "      <th>std</th>\n",
       "      <td>5.232413</td>\n",
       "      <td>5.158267</td>\n",
       "      <td>5.166358e+00</td>\n",
       "    </tr>\n",
       "  </tbody>\n",
       "</table>\n",
       "</div>"
      ],
      "text/plain": [
       "                 e5              e6            e7\n",
       "n     100000.000000  1000000.000000  1.000000e+07\n",
       "mean      16.916790       16.942505  1.695581e+01\n",
       "std        5.232413        5.158267  5.166358e+00"
      ]
     },
     "execution_count": 28,
     "metadata": {},
     "output_type": "execute_result"
    }
   ],
   "source": [
    "hoffman_hists, hoffman_stats = run_samples(graphs.HoffmanSingleton, [5,6,7])\n",
    "hoffman_stats"
   ]
  },
  {
   "cell_type": "code",
   "execution_count": 29,
   "metadata": {},
   "outputs": [
    {
     "data": {
      "image/png": "[encoded data removed]",
      "text/plain": [
       "<Figure size 1400x500 with 1 Axes>"
      ]
     },
     "metadata": {},
     "output_type": "display_data"
    }
   ],
   "source": [
    "plot_columns(hoffman_hists)"
   ]
  },
  {
   "cell_type": "markdown",
   "metadata": {},
   "source": [
    "### Sample D4K4 Graph"
   ]
  },
  {
   "cell_type": "code",
   "execution_count": 30,
   "metadata": {},
   "outputs": [
    {
     "name": "stdout",
     "output_type": "stream",
     "text": [
      "e5 e6 e7 "
     ]
    },
    {
     "data": {
      "text/html": [
       "<div>\n",
       "<style scoped>\n",
       "    .dataframe tbody tr th:only-of-type {\n",
       "        vertical-align: middle;\n",
       "    }\n",
       "\n",
       "    .dataframe tbody tr th {\n",
       "        vertical-align: top;\n",
       "    }\n",
       "\n",
       "    .dataframe thead th {\n",
       "        text-align: right;\n",
       "    }\n",
       "</style>\n",
       "<table border=\"1\" class=\"dataframe\">\n",
       "  <thead>\n",
       "    <tr style=\"text-align: right;\">\n",
       "      <th></th>\n",
       "      <th>e5</th>\n",
       "      <th>e6</th>\n",
       "      <th>e7</th>\n",
       "    </tr>\n",
       "  </thead>\n",
       "  <tbody>\n",
       "    <tr>\n",
       "      <th>n</th>\n",
       "      <td>100000.000000</td>\n",
       "      <td>1000000.000000</td>\n",
       "      <td>1.000000e+07</td>\n",
       "    </tr>\n",
       "    <tr>\n",
       "      <th>mean</th>\n",
       "      <td>32.457870</td>\n",
       "      <td>32.585851</td>\n",
       "      <td>3.255728e+01</td>\n",
       "    </tr>\n",
       "    <tr>\n",
       "      <th>std</th>\n",
       "      <td>6.336102</td>\n",
       "      <td>6.119345</td>\n",
       "      <td>6.087114e+00</td>\n",
       "    </tr>\n",
       "  </tbody>\n",
       "</table>\n",
       "</div>"
      ],
      "text/plain": [
       "                 e5              e6            e7\n",
       "n     100000.000000  1000000.000000  1.000000e+07\n",
       "mean      32.457870       32.585851  3.255728e+01\n",
       "std        6.336102        6.119345  6.087114e+00"
      ]
     },
     "execution_count": 30,
     "metadata": {},
     "output_type": "execute_result"
    }
   ],
   "source": [
    "d4k4_hists, d4k4_stats = run_samples(graphs.D4K4, [5,6,7])\n",
    "d4k4_stats"
   ]
  },
  {
   "cell_type": "code",
   "execution_count": 31,
   "metadata": {},
   "outputs": [
    {
     "data": {
      "image/png": "[encoded data removed]",
      "text/plain": [
       "<Figure size 1400x500 with 1 Axes>"
      ]
     },
     "metadata": {},
     "output_type": "display_data"
    }
   ],
   "source": [
    "plot_columns(d4k4_hists)"
   ]
  },
  {
   "cell_type": "markdown",
   "metadata": {},
   "source": [
    "## Continuous-time Stationary Distribution\n",
    "\n"
   ]
  },
  {
   "cell_type": "markdown",
   "metadata": {},
   "source": [
    "The time that is spent in a given configuration is proportional to the number of minable chains\n",
    "in that configuration.\n",
    "Also all minable chains are mined all at the same rate and thus the transition relation is locally uniform.\n",
    "\n",
    "We can therefore derive the stationary distribution for the continuous time Markov chain directly from\n",
    "the stationary distribution of the discrete Markow chain."
   ]
  },
  {
   "cell_type": "code",
   "execution_count": 32,
   "metadata": {},
   "outputs": [],
   "source": [
    "def ctmc(series):\n",
    "    r = pd.DataFrame({'discrete' : series})\n",
    "    t = r['discrete'] * r.index\n",
    "    r['continuous']= t / t.sum()\n",
    "    return r"
   ]
  },
  {
   "cell_type": "code",
   "execution_count": 47,
   "metadata": {},
   "outputs": [
    {
     "data": {
      "text/html": [
       "<div>\n",
       "<style scoped>\n",
       "    .dataframe tbody tr th:only-of-type {\n",
       "        vertical-align: middle;\n",
       "    }\n",
       "\n",
       "    .dataframe tbody tr th {\n",
       "        vertical-align: top;\n",
       "    }\n",
       "\n",
       "    .dataframe thead th {\n",
       "        text-align: right;\n",
       "    }\n",
       "</style>\n",
       "<table border=\"1\" class=\"dataframe\">\n",
       "  <thead>\n",
       "    <tr style=\"text-align: right;\">\n",
       "      <th></th>\n",
       "      <th>discrete</th>\n",
       "      <th>continuous</th>\n",
       "    </tr>\n",
       "  </thead>\n",
       "  <tbody>\n",
       "    <tr>\n",
       "      <th>1</th>\n",
       "      <td>3.300000e-06</td>\n",
       "      <td>1.013598e-07</td>\n",
       "    </tr>\n",
       "    <tr>\n",
       "      <th>2</th>\n",
       "      <td>8.600000e-06</td>\n",
       "      <td>5.282996e-07</td>\n",
       "    </tr>\n",
       "    <tr>\n",
       "      <th>3</th>\n",
       "      <td>1.650000e-05</td>\n",
       "      <td>1.520397e-06</td>\n",
       "    </tr>\n",
       "    <tr>\n",
       "      <th>4</th>\n",
       "      <td>2.790000e-05</td>\n",
       "      <td>3.427805e-06</td>\n",
       "    </tr>\n",
       "    <tr>\n",
       "      <th>5</th>\n",
       "      <td>4.690000e-05</td>\n",
       "      <td>7.202690e-06</td>\n",
       "    </tr>\n",
       "    <tr>\n",
       "      <th>...</th>\n",
       "      <td>...</td>\n",
       "      <td>...</td>\n",
       "    </tr>\n",
       "    <tr>\n",
       "      <th>94</th>\n",
       "      <td>1.000000e-07</td>\n",
       "      <td>2.887219e-07</td>\n",
       "    </tr>\n",
       "    <tr>\n",
       "      <th>95</th>\n",
       "      <td>1.000000e-07</td>\n",
       "      <td>2.917934e-07</td>\n",
       "    </tr>\n",
       "    <tr>\n",
       "      <th>96</th>\n",
       "      <td>1.000000e-07</td>\n",
       "      <td>2.948649e-07</td>\n",
       "    </tr>\n",
       "    <tr>\n",
       "      <th>97</th>\n",
       "      <td>1.000000e-07</td>\n",
       "      <td>2.979364e-07</td>\n",
       "    </tr>\n",
       "    <tr>\n",
       "      <th>98</th>\n",
       "      <td>1.000000e-07</td>\n",
       "      <td>3.010079e-07</td>\n",
       "    </tr>\n",
       "  </tbody>\n",
       "</table>\n",
       "<p>98 rows × 2 columns</p>\n",
       "</div>"
      ],
      "text/plain": [
       "        discrete    continuous\n",
       "1   3.300000e-06  1.013598e-07\n",
       "2   8.600000e-06  5.282996e-07\n",
       "3   1.650000e-05  1.520397e-06\n",
       "4   2.790000e-05  3.427805e-06\n",
       "5   4.690000e-05  7.202690e-06\n",
       "..           ...           ...\n",
       "94  1.000000e-07  2.887219e-07\n",
       "95  1.000000e-07  2.917934e-07\n",
       "96  1.000000e-07  2.948649e-07\n",
       "97  1.000000e-07  2.979364e-07\n",
       "98  1.000000e-07  3.010079e-07\n",
       "\n",
       "[98 rows x 2 columns]"
      ]
     },
     "execution_count": 47,
     "metadata": {},
     "output_type": "execute_result"
    }
   ],
   "source": [
    "r = ctmc(d4k4_hists['e7'])\n",
    "r"
   ]
  },
  {
   "cell_type": "code",
   "execution_count": 37,
   "metadata": {},
   "outputs": [],
   "source": [
    "ctmcs = {\n",
    "    'petersen': ctmc(petersen_hists['e7']),\n",
    "    'twenty': ctmc(twenty_hists['e7']),\n",
    "    'hoffman': ctmc(hoffman_hists['e7']),\n",
    "    'd4k4': ctmc(d4k4_hists['e7']),\n",
    "}"
   ]
  },
  {
   "cell_type": "code",
   "execution_count": 63,
   "metadata": {},
   "outputs": [
    {
     "data": {
      "text/html": [
       "<div>\n",
       "<style scoped>\n",
       "    .dataframe tbody tr th:only-of-type {\n",
       "        vertical-align: middle;\n",
       "    }\n",
       "\n",
       "    .dataframe tbody tr th {\n",
       "        vertical-align: top;\n",
       "    }\n",
       "\n",
       "    .dataframe thead th {\n",
       "        text-align: right;\n",
       "    }\n",
       "</style>\n",
       "<table border=\"1\" class=\"dataframe\">\n",
       "  <thead>\n",
       "    <tr style=\"text-align: right;\">\n",
       "      <th></th>\n",
       "      <th>continuous mean</th>\n",
       "      <th>continuous percent</th>\n",
       "      <th>discrete mean</th>\n",
       "      <th>discrete percent</th>\n",
       "    </tr>\n",
       "  </thead>\n",
       "  <tbody>\n",
       "    <tr>\n",
       "      <th>petersen</th>\n",
       "      <td>5.205213</td>\n",
       "      <td>52.052131</td>\n",
       "      <td>4.718741</td>\n",
       "      <td>47.187411</td>\n",
       "    </tr>\n",
       "    <tr>\n",
       "      <th>twenty</th>\n",
       "      <td>8.876540</td>\n",
       "      <td>44.382702</td>\n",
       "      <td>8.300088</td>\n",
       "      <td>41.500441</td>\n",
       "    </tr>\n",
       "    <tr>\n",
       "      <th>hoffman</th>\n",
       "      <td>18.529978</td>\n",
       "      <td>37.059955</td>\n",
       "      <td>16.955812</td>\n",
       "      <td>33.911624</td>\n",
       "    </tr>\n",
       "    <tr>\n",
       "      <th>d4k4</th>\n",
       "      <td>33.695367</td>\n",
       "      <td>34.383027</td>\n",
       "      <td>32.557281</td>\n",
       "      <td>33.221716</td>\n",
       "    </tr>\n",
       "  </tbody>\n",
       "</table>\n",
       "</div>"
      ],
      "text/plain": [
       "          continuous mean  continuous percent  discrete mean  discrete percent\n",
       "petersen         5.205213           52.052131       4.718741         47.187411\n",
       "twenty           8.876540           44.382702       8.300088         41.500441\n",
       "hoffman         18.529978           37.059955      16.955812         33.911624\n",
       "d4k4            33.695367           34.383027      32.557281         33.221716"
      ]
     },
     "execution_count": 63,
     "metadata": {},
     "output_type": "execute_result"
    }
   ],
   "source": [
    "r = pd.DataFrame(columns=['continuous mean', 'continuous percent', 'discrete mean', 'discrete percent'])\n",
    "for n,d in ctmcs.items():\n",
    "    contmean = (d['continuous'] * d.index).sum()\n",
    "    contpercent = 100 * contmean / d.index.max()\n",
    "    discmean = (d['discrete'] * d.index).sum()\n",
    "    discpercent = 100 * discmean / d.index.max()\n",
    "    r.loc[n] = [contmean, contpercent, discmean, discpercent]\n",
    "r"
   ]
  },
  {
   "cell_type": "markdown",
   "metadata": {},
   "source": [
    "The number of minable chains at any moment in (real) time:"
   ]
  },
  {
   "cell_type": "markdown",
   "metadata": {},
   "source": [
    "We notice, that compared to the discrete time distribution the continuous time distribution\n",
    "is shifted slightly towards a larger number of minable chains. Intuitively, the systems move\n",
    "out of configurations with a smaller number of minable chains more quickly and remains longer\n",
    "in configurations with a larger number of minable chains."
   ]
  },
  {
   "cell_type": "code",
   "execution_count": 55,
   "metadata": {},
   "outputs": [
    {
     "data": {
      "image/png": "[encoded data removed]",
      "text/plain": [
       "<Figure size 1400x500 with 1 Axes>"
      ]
     },
     "metadata": {},
     "output_type": "display_data"
    }
   ],
   "source": [
    "plot_columns(ctmcs['petersen'])"
   ]
  },
  {
   "cell_type": "code",
   "execution_count": 56,
   "metadata": {},
   "outputs": [
    {
     "data": {
      "image/png": "[encoded data removed]",
      "text/plain": [
       "<Figure size 1400x500 with 1 Axes>"
      ]
     },
     "metadata": {},
     "output_type": "display_data"
    }
   ],
   "source": [
    "plot_columns(ctmcs['twenty'])"
   ]
  },
  {
   "cell_type": "code",
   "execution_count": 57,
   "metadata": {},
   "outputs": [
    {
     "data": {
      "image/png": "[encoded data removed]",
      "text/plain": [
       "<Figure size 1400x500 with 1 Axes>"
      ]
     },
     "metadata": {},
     "output_type": "display_data"
    }
   ],
   "source": [
    "plot_columns(ctmcs['hoffman'])"
   ]
  },
  {
   "cell_type": "code",
   "execution_count": 58,
   "metadata": {},
   "outputs": [
    {
     "data": {
      "image/png": "[encoded data removed]",
      "text/plain": [
       "<Figure size 1400x500 with 1 Axes>"
      ]
     },
     "metadata": {},
     "output_type": "display_data"
    }
   ],
   "source": [
    "plot_columns(ctmcs['d4k4'])"
   ]
  },
  {
   "cell_type": "markdown",
   "metadata": {},
   "source": [
    "# Discussion"
   ]
  },
  {
   "cell_type": "markdown",
   "metadata": {},
   "source": [
    "How can these results be explained?\n",
    "\n",
    "The more chains are minable the \"flatter\" a configuration is. The empty configuration is the optimum. The more spiky a configuration is the\n",
    "less chains are minable. It seems that with larger graphs configurations are less flat and more spiky. \n",
    "\n",
    "It is not clear what role the diameter and the degree (and possibly other parameters) of the graph play."
   ]
  },
  {
   "cell_type": "markdown",
   "metadata": {},
   "source": [
    "# Appendix"
   ]
  },
  {
   "cell_type": "markdown",
   "metadata": {},
   "source": [
    "## Alternative Implemenations of Configurations"
   ]
  },
  {
   "cell_type": "markdown",
   "metadata": {},
   "source": [
    "### Height Difference Matrix Representation"
   ]
  },
  {
   "cell_type": "code",
   "execution_count": null,
   "metadata": {},
   "outputs": [],
   "source": [
    "# This implementation encodes configurations as height difference matrixes. This means\n",
    "# that the chain graph can not recovered from the configuration. As a consequence\n",
    "# the mine function does not need to be aware of the graph and in turn the mineable\n",
    "# function guarantees that all transitions satisfy the graph constraints.\n",
    "#\n",
    "# In concrete, the mineable function which is not called in the inner loop is more\n",
    "# complex and the mine function in the inner loop is simpler. On the flip side\n",
    "# configuration matrixes are not boolean and not sparse any more. Also values can\n",
    "# be negative.\n",
    "#\n",
    "# Matrixes in this encoding are skew symmetric, but the implementaiton does\n",
    "# not exploit that fact.\n",
    "# \n",
    "# This encoding is more intuitive and, in theory, more efficient and dense # matrixes. \n",
    "#\n",
    "# In practice, performance is almost identical with the sparse implementation.\n",
    "#\n",
    "\n",
    "# In this representation the full matrix can be recovered from a single row and/or\n",
    "# column. (what does this mean algebraically?)\n",
    "# For hashing it is thus sufficient to use only a single row.\n",
    "\n",
    "class HeightDifferenceMatrix(Implementation):\n",
    "\n",
    "    @staticmethod\n",
    "    def mk_graph(graph):\n",
    "        return mk_graph(graph)\n",
    "\n",
    "    @staticmethod\n",
    "    def hash(c):\n",
    "        return hash(c[0].data.tobytes())\n",
    "\n",
    "    @staticmethod\n",
    "    def initial(g):\n",
    "        return init_conf2(g)\n",
    "\n",
    "    @staticmethod\n",
    "    def minable(g, c):\n",
    "        return ((c * g).max(axis=1) < 1).nonzero()[0]\n",
    "\n",
    "    @staticmethod\n",
    "    def mine(_g, c, i):\n",
    "        r = c.copy()\n",
    "        r[i,:] += 1\n",
    "        r[:,i] -= 1\n",
    "        return r"
   ]
  },
  {
   "cell_type": "code",
   "execution_count": null,
   "metadata": {},
   "outputs": [
    {
     "name": "stdout",
     "output_type": "stream",
     "text": [
      "CPU times: user 195 ms, sys: 20.4 ms, total: 216 ms\n",
      "Wall time: 203 ms\n"
     ]
    },
    {
     "data": {
      "text/plain": [
       "2613"
      ]
     },
     "metadata": {},
     "output_type": "display_data"
    }
   ],
   "source": [
    "%time petersen_confs_hdm = mk_transitions(HeightDifferenceMatrix, graphs.Petersen, cache_suffix='petersen_hdm', cache_refresh=True)\n",
    "len(petersen_confs_hdm)"
   ]
  },
  {
   "cell_type": "code",
   "execution_count": null,
   "metadata": {},
   "outputs": [],
   "source": [
    "petersen_confs_hdm['maxdiff'] = petersen_confs_hdm['conf'].apply(lambda x: x[0].max())\n",
    "petersen_confs_hdm['stddiff'] = petersen_confs_hdm['conf'].apply(lambda x: x[0].std())\n",
    "petersen_confs_hdm['diff0'] = petersen_confs_hdm['conf'].apply(lambda x: x[0][0])"
   ]
  },
  {
   "cell_type": "code",
   "execution_count": null,
   "metadata": {},
   "outputs": [
    {
     "name": "stdout",
     "output_type": "stream",
     "text": [
      "CPU times: user 43.6 s, sys: 2.59 s, total: 46.2 s\n",
      "Wall time: 47.4 s\n"
     ]
    }
   ],
   "source": [
    "# Generating the data takes about 3min.\n",
    "# Storing the 1.4GB of data to disk takes 20min.\n",
    "# Loading the data from disk takes about 50s.\n",
    "# Python is just very, very flow :-(\n",
    "%time twenty_confs_hdm = mk_transitions(HeightDifferenceMatrix, graphs.Twenty, cache_suffix='twenty_hdm', cache_refresh=True)\n",
    "len(twenty_confs_hdm)"
   ]
  },
  {
   "cell_type": "code",
   "execution_count": null,
   "metadata": {},
   "outputs": [
    {
     "data": {
      "text/plain": [
       "13238551"
      ]
     },
     "metadata": {},
     "output_type": "display_data"
    }
   ],
   "source": [
    "# takes about 3 min (should we cache it, too?)\n",
    "twenty_confs_hdm['maxdiff'] = twenty_confs_hdm['conf'].apply(lambda x: x[0].max())\n",
    "twenty_confs_hdm['stddiff'] = twenty_confs_hdm['conf'].apply(lambda x: x[0].std())\n",
    "twenty_confs_hdm['diff0'] = twenty_confs_hdm['conf'].apply(lambda x: x[0][0])"
   ]
  },
  {
   "cell_type": "code",
   "execution_count": null,
   "metadata": {},
   "outputs": [
    {
     "data": {
      "text/html": [
       "<div>\n",
       "<style scoped>\n",
       "    .dataframe tbody tr th:only-of-type {\n",
       "        vertical-align: middle;\n",
       "    }\n",
       "\n",
       "    .dataframe tbody tr th {\n",
       "        vertical-align: top;\n",
       "    }\n",
       "\n",
       "    .dataframe thead th {\n",
       "        text-align: right;\n",
       "    }\n",
       "</style>\n",
       "<table border=\"1\" class=\"dataframe\">\n",
       "  <thead>\n",
       "    <tr style=\"text-align: right;\">\n",
       "      <th></th>\n",
       "      <th>n</th>\n",
       "      <th>maxdiff</th>\n",
       "    </tr>\n",
       "    <tr>\n",
       "      <th>maxdiff</th>\n",
       "      <th></th>\n",
       "      <th></th>\n",
       "    </tr>\n",
       "  </thead>\n",
       "  <tbody>\n",
       "    <tr>\n",
       "      <th>0</th>\n",
       "      <td>5.106933</td>\n",
       "      <td>851</td>\n",
       "    </tr>\n",
       "    <tr>\n",
       "      <th>1</th>\n",
       "      <td>4.471539</td>\n",
       "      <td>1423</td>\n",
       "    </tr>\n",
       "    <tr>\n",
       "      <th>2</th>\n",
       "      <td>3.513274</td>\n",
       "      <td>339</td>\n",
       "    </tr>\n",
       "  </tbody>\n",
       "</table>\n",
       "</div>"
      ],
      "text/plain": [
       "                n  maxdiff\n",
       "maxdiff                   \n",
       "0        5.106933      851\n",
       "1        4.471539     1423\n",
       "2        3.513274      339"
      ]
     },
     "metadata": {},
     "output_type": "display_data"
    }
   ],
   "source": [
    "petersen_confs_hdm.groupby('maxdiff').agg({'n':'mean', 'maxdiff': 'count'})"
   ]
  },
  {
   "cell_type": "code",
   "execution_count": null,
   "metadata": {},
   "outputs": [
    {
     "data": {
      "text/html": [
       "<div>\n",
       "<style scoped>\n",
       "    .dataframe tbody tr th:only-of-type {\n",
       "        vertical-align: middle;\n",
       "    }\n",
       "\n",
       "    .dataframe tbody tr th {\n",
       "        vertical-align: top;\n",
       "    }\n",
       "\n",
       "    .dataframe thead th {\n",
       "        text-align: right;\n",
       "    }\n",
       "</style>\n",
       "<table border=\"1\" class=\"dataframe\">\n",
       "  <thead>\n",
       "    <tr style=\"text-align: right;\">\n",
       "      <th></th>\n",
       "      <th>maxdiff</th>\n",
       "      <th>stddiff</th>\n",
       "    </tr>\n",
       "    <tr>\n",
       "      <th>n</th>\n",
       "      <th></th>\n",
       "      <th></th>\n",
       "    </tr>\n",
       "  </thead>\n",
       "  <tbody>\n",
       "    <tr>\n",
       "      <th>1</th>\n",
       "      <td>10</td>\n",
       "      <td>0.670820</td>\n",
       "    </tr>\n",
       "    <tr>\n",
       "      <th>2</th>\n",
       "      <td>105</td>\n",
       "      <td>0.685947</td>\n",
       "    </tr>\n",
       "    <tr>\n",
       "      <th>3</th>\n",
       "      <td>420</td>\n",
       "      <td>0.653692</td>\n",
       "    </tr>\n",
       "    <tr>\n",
       "      <th>4</th>\n",
       "      <td>790</td>\n",
       "      <td>0.591592</td>\n",
       "    </tr>\n",
       "    <tr>\n",
       "      <th>5</th>\n",
       "      <td>732</td>\n",
       "      <td>0.519301</td>\n",
       "    </tr>\n",
       "    <tr>\n",
       "      <th>6</th>\n",
       "      <td>360</td>\n",
       "      <td>0.485747</td>\n",
       "    </tr>\n",
       "    <tr>\n",
       "      <th>7</th>\n",
       "      <td>140</td>\n",
       "      <td>0.449213</td>\n",
       "    </tr>\n",
       "    <tr>\n",
       "      <th>8</th>\n",
       "      <td>45</td>\n",
       "      <td>0.400000</td>\n",
       "    </tr>\n",
       "    <tr>\n",
       "      <th>9</th>\n",
       "      <td>10</td>\n",
       "      <td>0.300000</td>\n",
       "    </tr>\n",
       "    <tr>\n",
       "      <th>10</th>\n",
       "      <td>1</td>\n",
       "      <td>0.000000</td>\n",
       "    </tr>\n",
       "  </tbody>\n",
       "</table>\n",
       "</div>"
      ],
      "text/plain": [
       "    maxdiff   stddiff\n",
       "n                    \n",
       "1        10  0.670820\n",
       "2       105  0.685947\n",
       "3       420  0.653692\n",
       "4       790  0.591592\n",
       "5       732  0.519301\n",
       "6       360  0.485747\n",
       "7       140  0.449213\n",
       "8        45  0.400000\n",
       "9        10  0.300000\n",
       "10        1  0.000000"
      ]
     },
     "metadata": {},
     "output_type": "display_data"
    }
   ],
   "source": [
    "petersen_confs_hdm.groupby('n').agg({'maxdiff':'count', 'stddiff':'mean'})"
   ]
  },
  {
   "cell_type": "code",
   "execution_count": null,
   "metadata": {},
   "outputs": [
    {
     "ename": "NameError",
     "evalue": "name 'twenty_confs' is not defined",
     "output_type": "error",
     "traceback": [
      "\u001b[0;31m---------------------------------------------------------------------------\u001b[0m\n",
      "\u001b[0;31mNameError\u001b[0m                                 Traceback (most recent call last)\n",
      "Cell \u001b[0;32mIn[71], line 1\u001b[0m\n",
      "\u001b[0;32m----> 1\u001b[0m \u001b[43mtwenty_confs\u001b[49m\u001b[38;5;241m.\u001b[39mgroupby(\u001b[38;5;124m'\u001b[39m\u001b[38;5;124mmaxdiff\u001b[39m\u001b[38;5;124m'\u001b[39m)\u001b[38;5;241m.\u001b[39magg({\u001b[38;5;124m'\u001b[39m\u001b[38;5;124mn\u001b[39m\u001b[38;5;124m'\u001b[39m:\u001b[38;5;124m'\u001b[39m\u001b[38;5;124mmean\u001b[39m\u001b[38;5;124m'\u001b[39m, \u001b[38;5;124m'\u001b[39m\u001b[38;5;124mmaxdiff\u001b[39m\u001b[38;5;124m'\u001b[39m: \u001b[38;5;124m'\u001b[39m\u001b[38;5;124mcount\u001b[39m\u001b[38;5;124m'\u001b[39m})\n",
      "\n",
      "\u001b[0;31mNameError\u001b[0m: name 'twenty_confs' is not defined"
     ]
    }
   ],
   "source": [
    "twenty_confs_hdm.groupby('maxdiff').agg({'n':'mean', 'maxdiff': 'count'})"
   ]
  },
  {
   "cell_type": "code",
   "execution_count": null,
   "metadata": {},
   "outputs": [
    {
     "data": {
      "text/html": [
       "<div>\n",
       "<style scoped>\n",
       "    .dataframe tbody tr th:only-of-type {\n",
       "        vertical-align: middle;\n",
       "    }\n",
       "\n",
       "    .dataframe tbody tr th {\n",
       "        vertical-align: top;\n",
       "    }\n",
       "\n",
       "    .dataframe thead th {\n",
       "        text-align: right;\n",
       "    }\n",
       "</style>\n",
       "<table border=\"1\" class=\"dataframe\">\n",
       "  <thead>\n",
       "    <tr style=\"text-align: right;\">\n",
       "      <th></th>\n",
       "      <th>hash</th>\n",
       "      <th>stddiff</th>\n",
       "    </tr>\n",
       "    <tr>\n",
       "      <th>n</th>\n",
       "      <th></th>\n",
       "      <th></th>\n",
       "    </tr>\n",
       "  </thead>\n",
       "  <tbody>\n",
       "    <tr>\n",
       "      <th>1</th>\n",
       "      <td>20</td>\n",
       "      <td>1.254990</td>\n",
       "    </tr>\n",
       "    <tr>\n",
       "      <th>2</th>\n",
       "      <td>710</td>\n",
       "      <td>1.254051</td>\n",
       "    </tr>\n",
       "    <tr>\n",
       "      <th>3</th>\n",
       "      <td>10140</td>\n",
       "      <td>1.213092</td>\n",
       "    </tr>\n",
       "    <tr>\n",
       "      <th>4</th>\n",
       "      <td>76705</td>\n",
       "      <td>1.152181</td>\n",
       "    </tr>\n",
       "    <tr>\n",
       "      <th>5</th>\n",
       "      <td>344884</td>\n",
       "      <td>1.086659</td>\n",
       "    </tr>\n",
       "    <tr>\n",
       "      <th>6</th>\n",
       "      <td>993050</td>\n",
       "      <td>1.025149</td>\n",
       "    </tr>\n",
       "    <tr>\n",
       "      <th>7</th>\n",
       "      <td>1946140</td>\n",
       "      <td>0.970241</td>\n",
       "    </tr>\n",
       "    <tr>\n",
       "      <th>8</th>\n",
       "      <td>2726790</td>\n",
       "      <td>0.920459</td>\n",
       "    </tr>\n",
       "    <tr>\n",
       "      <th>9</th>\n",
       "      <td>2817200</td>\n",
       "      <td>0.873257</td>\n",
       "    </tr>\n",
       "    <tr>\n",
       "      <th>10</th>\n",
       "      <td>2174600</td>\n",
       "      <td>0.826777</td>\n",
       "    </tr>\n",
       "    <tr>\n",
       "      <th>11</th>\n",
       "      <td>1264930</td>\n",
       "      <td>0.780891</td>\n",
       "    </tr>\n",
       "    <tr>\n",
       "      <th>12</th>\n",
       "      <td>570420</td>\n",
       "      <td>0.737170</td>\n",
       "    </tr>\n",
       "    <tr>\n",
       "      <th>13</th>\n",
       "      <td>213360</td>\n",
       "      <td>0.696393</td>\n",
       "    </tr>\n",
       "    <tr>\n",
       "      <th>14</th>\n",
       "      <td>71260</td>\n",
       "      <td>0.655418</td>\n",
       "    </tr>\n",
       "    <tr>\n",
       "      <th>15</th>\n",
       "      <td>21406</td>\n",
       "      <td>0.611123</td>\n",
       "    </tr>\n",
       "    <tr>\n",
       "      <th>16</th>\n",
       "      <td>5545</td>\n",
       "      <td>0.561918</td>\n",
       "    </tr>\n",
       "    <tr>\n",
       "      <th>17</th>\n",
       "      <td>1180</td>\n",
       "      <td>0.502669</td>\n",
       "    </tr>\n",
       "    <tr>\n",
       "      <th>18</th>\n",
       "      <td>190</td>\n",
       "      <td>0.424264</td>\n",
       "    </tr>\n",
       "    <tr>\n",
       "      <th>19</th>\n",
       "      <td>20</td>\n",
       "      <td>0.308221</td>\n",
       "    </tr>\n",
       "    <tr>\n",
       "      <th>20</th>\n",
       "      <td>1</td>\n",
       "      <td>0.000000</td>\n",
       "    </tr>\n",
       "  </tbody>\n",
       "</table>\n",
       "</div>"
      ],
      "text/plain": [
       "       hash   stddiff\n",
       "n                    \n",
       "1        20  1.254990\n",
       "2       710  1.254051\n",
       "3     10140  1.213092\n",
       "4     76705  1.152181\n",
       "5    344884  1.086659\n",
       "6    993050  1.025149\n",
       "7   1946140  0.970241\n",
       "8   2726790  0.920459\n",
       "9   2817200  0.873257\n",
       "10  2174600  0.826777\n",
       "11  1264930  0.780891\n",
       "12   570420  0.737170\n",
       "13   213360  0.696393\n",
       "14    71260  0.655418\n",
       "15    21406  0.611123\n",
       "16     5545  0.561918\n",
       "17     1180  0.502669\n",
       "18      190  0.424264\n",
       "19       20  0.308221\n",
       "20        1  0.000000"
      ]
     },
     "metadata": {},
     "output_type": "display_data"
    }
   ],
   "source": [
    "twenty_confs_hdm.groupby('n').agg({'maxdiff':'count', 'stddiff':'mean'})"
   ]
  },
  {
   "cell_type": "code",
   "execution_count": null,
   "metadata": {},
   "outputs": [
    {
     "ename": "AttributeError",
     "evalue": "'DataFrame' object has no attribute 'maxdiff'",
     "output_type": "error",
     "traceback": [
      "\u001b[0;31m---------------------------------------------------------------------------\u001b[0m\n",
      "\u001b[0;31mAttributeError\u001b[0m                            Traceback (most recent call last)\n",
      "\u001b[0;32m/var/folders/nd/ghm5xr6j0yx1nwwnfk475f380000gp/T/ipykernel_2295/2823211634.py\u001b[0m in \u001b[0;36m?\u001b[0;34m()\u001b[0m\n",
      "\u001b[0;32m----> 1\u001b[0;31m \u001b[0mpetersen_confs_hdm\u001b[0m\u001b[0;34m.\u001b[0m\u001b[0mmaxdiff\u001b[0m\u001b[0;34m.\u001b[0m\u001b[0mmean\u001b[0m\u001b[0;34m(\u001b[0m\u001b[0;34m)\u001b[0m\u001b[0;34m,\u001b[0m \u001b[0mtwenty_confs\u001b[0m\u001b[0;34m.\u001b[0m\u001b[0mmaxdiff\u001b[0m\u001b[0;34m.\u001b[0m\u001b[0mmean\u001b[0m\u001b[0;34m(\u001b[0m\u001b[0;34m)\u001b[0m\u001b[0;34m\u001b[0m\u001b[0;34m\u001b[0m\u001b[0m\n",
      "\u001b[0m\n",
      "\u001b[0;32m~/Code/Kadena/chainweb/ChainwebSimulations/.venv/lib/python3.12/site-packages/pandas/core/generic.py\u001b[0m in \u001b[0;36m?\u001b[0;34m(self, name)\u001b[0m\n",
      "\u001b[1;32m   6295\u001b[0m             \u001b[0;32mand\u001b[0m \u001b[0mname\u001b[0m \u001b[0;32mnot\u001b[0m \u001b[0;32min\u001b[0m \u001b[0mself\u001b[0m\u001b[0;34m.\u001b[0m\u001b[0m_accessors\u001b[0m\u001b[0;34m\u001b[0m\u001b[0;34m\u001b[0m\u001b[0m\n",
      "\u001b[1;32m   6296\u001b[0m             \u001b[0;32mand\u001b[0m \u001b[0mself\u001b[0m\u001b[0;34m.\u001b[0m\u001b[0m_info_axis\u001b[0m\u001b[0;34m.\u001b[0m\u001b[0m_can_hold_identifiers_and_holds_name\u001b[0m\u001b[0;34m(\u001b[0m\u001b[0mname\u001b[0m\u001b[0;34m)\u001b[0m\u001b[0;34m\u001b[0m\u001b[0;34m\u001b[0m\u001b[0m\n",
      "\u001b[1;32m   6297\u001b[0m         \u001b[0;34m)\u001b[0m\u001b[0;34m:\u001b[0m\u001b[0;34m\u001b[0m\u001b[0;34m\u001b[0m\u001b[0m\n",
      "\u001b[1;32m   6298\u001b[0m             \u001b[0;32mreturn\u001b[0m \u001b[0mself\u001b[0m\u001b[0;34m[\u001b[0m\u001b[0mname\u001b[0m\u001b[0;34m]\u001b[0m\u001b[0;34m\u001b[0m\u001b[0;34m\u001b[0m\u001b[0m\n",
      "\u001b[0;32m-> 6299\u001b[0;31m         \u001b[0;32mreturn\u001b[0m \u001b[0mobject\u001b[0m\u001b[0;34m.\u001b[0m\u001b[0m__getattribute__\u001b[0m\u001b[0;34m(\u001b[0m\u001b[0mself\u001b[0m\u001b[0;34m,\u001b[0m \u001b[0mname\u001b[0m\u001b[0;34m)\u001b[0m\u001b[0;34m\u001b[0m\u001b[0;34m\u001b[0m\u001b[0m\n",
      "\u001b[0m\n",
      "\u001b[0;31mAttributeError\u001b[0m: 'DataFrame' object has no attribute 'maxdiff'"
     ]
    }
   ],
   "source": [
    "petersen_confs_hdm.maxdiff.mean(), twenty_confs.maxdiff.mean()"
   ]
  },
  {
   "cell_type": "markdown",
   "metadata": {},
   "source": [
    "### Dependency DAG Representation"
   ]
  },
  {
   "cell_type": "markdown",
   "metadata": {},
   "source": [
    "A configuration is represented as a matrix that encodes the dependency DAG."
   ]
  },
  {
   "cell_type": "markdown",
   "metadata": {},
   "source": [
    "Mining a chain means to remove all existing dependencies on the edge and\n",
    "create dependencies to those neighouring chains that had no dependency before.\n",
    "\n",
    "More formally, we\n",
    "\n",
    "1. add an outgoing egde for all neighbours without incoming edge and\n",
    "2. remove all incoming edges.\n"
   ]
  },
  {
   "cell_type": "code",
   "execution_count": null,
   "metadata": {},
   "outputs": [],
   "source": [
    "class DependencyDAG(Implementation):\n",
    "    @staticmethod\n",
    "    def mk_graph(graph):\n",
    "        return mk_graph(graph)\n",
    "\n",
    "    @staticmethod\n",
    "    def hash(c):\n",
    "        return hash_conf(c)\n",
    "\n",
    "    @staticmethod\n",
    "    def initial(g):\n",
    "        return init_conf2(g)\n",
    "\n",
    "    @staticmethod\n",
    "    def minable(_g, c):\n",
    "        return (c.sum(axis=1) == 0).nonzero()[0]\n",
    "\n",
    "    @staticmethod\n",
    "    def mine(g, c, i):\n",
    "        r = c.copy()\n",
    "        # set r[i,:] (outgoing edges) to g[:,i] - r[:,i] (create edge if there was no incoming edge)\n",
    "        r[i,:] = g[i,:] - r[:,i] # xor, assume that r[i] <= g[i]\n",
    "        # remove all entries from the column i (incoming edges)\n",
    "        r[:,i] = 0\n",
    "        return r"
   ]
  },
  {
   "cell_type": "code",
   "execution_count": null,
   "metadata": {},
   "outputs": [
    {
     "name": "stdout",
     "output_type": "stream",
     "text": [
      "CPU times: user 5.86 ms, sys: 1.1 ms, total: 6.96 ms\n",
      "Wall time: 6.18 ms\n"
     ]
    },
    {
     "data": {
      "text/plain": [
       "2613"
      ]
     },
     "metadata": {},
     "output_type": "display_data"
    }
   ],
   "source": [
    "%time petersen_confs_dag = mk_transitions(DependencyDAG, graphs.Petersen, cache_suffix='petersen_dag', cache_refresh=False)\n",
    "len(petersen_confs_dag)"
   ]
  },
  {
   "cell_type": "markdown",
   "metadata": {},
   "source": [
    "### BitPacked DAG Representation"
   ]
  },
  {
   "cell_type": "markdown",
   "metadata": {},
   "source": [
    "Using bit packed arrays to represent the configurations saves a lot of memory but overall takes more time to compute the graph, most likely to the\n",
    "extra arithmatic and unpacking required for column slicing. It seems that those operations are not efficiently vectorized.\n",
    "Overall, the computation of the automaton takes about twice as long as with the unpacked matrix representation."
   ]
  },
  {
   "cell_type": "code",
   "execution_count": null,
   "metadata": {},
   "outputs": [],
   "source": [
    "class SparseBitPackedDAG(Implementation):\n",
    "    @staticmethod\n",
    "    def mk_graph(graph):\n",
    "        # bit packed sparse matrix. Trailing bits are always 0\n",
    "        return np.packbits(mk_graph(graph), axis=1, bitorder='big')\n",
    "\n",
    "    @staticmethod\n",
    "    def hash(c):\n",
    "        return hash_conf(c)\n",
    "\n",
    "    @staticmethod\n",
    "    def initial(g):\n",
    "        return np.packbits(init_conf2(g), axis=1)\n",
    "\n",
    "    @staticmethod\n",
    "    def minable(_g, c):\n",
    "        return (c.sum(axis=1) == 0).nonzero()[0]\n",
    "\n",
    "    @staticmethod\n",
    "    def mine(g, c, i):\n",
    "        r = c.copy()\n",
    "        # get column i as packed bit vector\n",
    "        ci = np.packbits((c[:,i // 8] >> (7 - i % 8)) & 0x01)\n",
    "        r[i,:] = g[i,:] ^ ci # xor, assume that r[i] <= g[i]\n",
    "        r[:,i // 8] = r[:,i // 8] & np.uint8(0xff & (0xff7f >> (i % 8)))\n",
    "        return r\n",
    "\n",
    "def from_bconf(bconf):\n",
    "    return np.unpackbits(bconf, axis=1, count=bconf.shape[0], bitorder='big')"
   ]
  },
  {
   "cell_type": "code",
   "execution_count": null,
   "metadata": {},
   "outputs": [
    {
     "name": "stdout",
     "output_type": "stream",
     "text": [
      "CPU times: user 6.55 ms, sys: 1 ms, total: 7.55 ms\n",
      "Wall time: 6.56 ms\n"
     ]
    },
    {
     "data": {
      "text/plain": [
       "2613"
      ]
     },
     "metadata": {},
     "output_type": "display_data"
    }
   ],
   "source": [
    "%time petersen_confs_packed = mk_transitions(SparseBitPackedDAG, graphs.Petersen, cache_suffix='petersen_packed', cache_refresh=False)\n",
    "len(petersen_confs_packed)"
   ]
  },
  {
   "cell_type": "markdown",
   "metadata": {},
   "source": [
    "### Sparse Matrix DAG Representation"
   ]
  },
  {
   "cell_type": "markdown",
   "metadata": {},
   "source": [
    "Using sparse matrix representations is prohibitively slow. The problem is that the implementation requires both column and row slicing."
   ]
  },
  {
   "cell_type": "code",
   "execution_count": null,
   "metadata": {},
   "outputs": [],
   "source": [
    "class SparseDAG(Implementation):\n",
    "    @staticmethod\n",
    "    def mk_graph(graph):\n",
    "        # row compressed sparse matrix\n",
    "        return sp.sparse.csr_array(mk_graph(graph), dtype=np.int8)\n",
    "\n",
    "    @staticmethod\n",
    "    def hash(c):\n",
    "        return hash_conf(c)\n",
    "\n",
    "    @staticmethod\n",
    "    def initial(g):\n",
    "        return sp.sparse.csr_array(init_conf2(g))\n",
    "\n",
    "    @staticmethod\n",
    "    def minable(_g, c):\n",
    "        return (c.sum(axis=1) == 0).nonzero()[0]\n",
    "\n",
    "    # This is prohibitively slow!\n",
    "    @staticmethod\n",
    "    def mine(g, c, i):\n",
    "        r = c.copy()\n",
    "        r[[i],:] = g[[i],:] - r[:,[i]].T # column slicing is expensive in csr arrays\n",
    "        r[:,[i]] = 0\n",
    "        return r"
   ]
  },
  {
   "cell_type": "code",
   "execution_count": null,
   "metadata": {},
   "outputs": [
    {
     "name": "stdout",
     "output_type": "stream",
     "text": [
      "CPU times: user 76.6 ms, sys: 2.21 ms, total: 78.8 ms\n",
      "Wall time: 81.7 ms\n"
     ]
    },
    {
     "data": {
      "text/plain": [
       "5226"
      ]
     },
     "metadata": {},
     "output_type": "display_data"
    }
   ],
   "source": [
    "%time petersen_confs_sparse = mk_transitions(SparseDAG, graphs.Petersen, cache_suffix='petersen_sparse', cache_refresh=False)\n",
    "len(petersen_confs_sparse)"
   ]
  },
  {
   "cell_type": "markdown",
   "metadata": {},
   "source": [
    "## Test Different Implementations"
   ]
  },
  {
   "cell_type": "code",
   "execution_count": null,
   "metadata": {},
   "outputs": [],
   "source": [
    "def test(g, c, v):\n",
    "    x = c\n",
    "    for i in v:\n",
    "        x = mine(g, x, i)\n",
    "    return x\n",
    "def btest(g, c, v):\n",
    "    x = c\n",
    "    for i in v:\n",
    "        x = bmine(g, x, i)\n",
    "    return x\n",
    "def stest(g, c, v):\n",
    "    x = c\n",
    "    for i in v:\n",
    "        x = smine(g, x, i)\n",
    "    return x\n"
   ]
  },
  {
   "cell_type": "code",
   "execution_count": null,
   "metadata": {},
   "outputs": [
    {
     "data": {
      "text/plain": [
       "True"
      ]
     },
     "metadata": {},
     "output_type": "display_data"
    }
   ],
   "source": [
    "v = [0,1,2,3,4,5,6,7,8,9,10,11,8,12,7,13,3,14,0,15,2,16,1,17,4,18,5,19,6]\n",
    "{ \n",
    "    \"b\" : (test(g, init_conf(g), v) == from_bconf(btest(bg, init_bconf(bg), v))).all(),\n",
    "    \"s\" : (test(g, init_conf(g), v) == stest(sg, init_sconf(sg), v)).all(),\n",
    "}"
   ]
  },
  {
   "cell_type": "markdown",
   "metadata": {},
   "source": [
    "## Double Check Soundness of Construction:"
   ]
  },
  {
   "cell_type": "code",
   "execution_count": 223,
   "metadata": {},
   "outputs": [
    {
     "data": {
      "text/plain": [
       "{1: 10.0, 2: 105.0, 3: 420.0}"
      ]
     },
     "execution_count": 223,
     "metadata": {},
     "output_type": "execute_result"
    }
   ],
   "source": [
    "{\n",
    "    1 : sp.special.comb(10,1),\n",
    "    2 : sp.special.comb(10,2) + 10 * 6, # all pairs at same level + all paris at different levels\n",
    "    3 : (sp.special.comb(10,2) + 10 * 6) * 4, # all pairs at all levels combined with one more minable node (not dependent on the previous)\n",
    "}"
   ]
  },
  {
   "cell_type": "code",
   "execution_count": 224,
   "metadata": {},
   "outputs": [],
   "source": [
    "x = pd.DataFrame([(k, v[0], v[1], len(v[1])) for k,v in petersen_confs.items()], columns=['hash', 'conf', 'transitions', 'n'])\n",
    "x2 = x.query('n == 2').copy()"
   ]
  },
  {
   "cell_type": "code",
   "execution_count": 225,
   "metadata": {},
   "outputs": [
    {
     "data": {
      "text/html": [
       "<div>\n",
       "<style scoped>\n",
       "    .dataframe tbody tr th:only-of-type {\n",
       "        vertical-align: middle;\n",
       "    }\n",
       "\n",
       "    .dataframe tbody tr th {\n",
       "        vertical-align: top;\n",
       "    }\n",
       "\n",
       "    .dataframe thead th {\n",
       "        text-align: right;\n",
       "    }\n",
       "</style>\n",
       "<table border=\"1\" class=\"dataframe\">\n",
       "  <thead>\n",
       "    <tr style=\"text-align: right;\">\n",
       "      <th></th>\n",
       "      <th>hash</th>\n",
       "      <th>conf</th>\n",
       "      <th>transitions</th>\n",
       "      <th>n</th>\n",
       "      <th>m</th>\n",
       "      <th>mstr</th>\n",
       "    </tr>\n",
       "  </thead>\n",
       "  <tbody>\n",
       "    <tr>\n",
       "      <th>1942</th>\n",
       "      <td>-7930659089034126825</td>\n",
       "      <td>[[0, 0, 1, 0, 0, 1, 0, 0, 0, 0], [0, 0, 0, 0, ...</td>\n",
       "      <td>[-8041120012655694383, -2617471991899097155]</td>\n",
       "      <td>2</td>\n",
       "      <td>[7, 9]</td>\n",
       "      <td>[7 9]</td>\n",
       "    </tr>\n",
       "    <tr>\n",
       "      <th>1960</th>\n",
       "      <td>2250447209038754865</td>\n",
       "      <td>[[0, 0, 0, 0, 0, 1, 0, 0, 0, 0], [0, 0, 0, 0, ...</td>\n",
       "      <td>[4072669502136434950, -3037203631758632283]</td>\n",
       "      <td>2</td>\n",
       "      <td>[6, 9]</td>\n",
       "      <td>[6 9]</td>\n",
       "    </tr>\n",
       "    <tr>\n",
       "      <th>1962</th>\n",
       "      <td>-5619004480391568259</td>\n",
       "      <td>[[0, 0, 0, 1, 0, 1, 0, 0, 0, 0], [0, 0, 0, 0, ...</td>\n",
       "      <td>[4008133401097849616, -5293219120899729222]</td>\n",
       "      <td>2</td>\n",
       "      <td>[6, 8]</td>\n",
       "      <td>[6 8]</td>\n",
       "    </tr>\n",
       "    <tr>\n",
       "      <th>2016</th>\n",
       "      <td>-2479906091558450084</td>\n",
       "      <td>[[0, 0, 0, 0, 0, 1, 0, 0, 0, 0], [0, 0, 0, 1, ...</td>\n",
       "      <td>[5122700977348441491, -291767812445952893]</td>\n",
       "      <td>2</td>\n",
       "      <td>[5, 8]</td>\n",
       "      <td>[5 8]</td>\n",
       "    </tr>\n",
       "    <tr>\n",
       "      <th>2022</th>\n",
       "      <td>-926569847930216703</td>\n",
       "      <td>[[0, 0, 0, 0, 0, 1, 0, 0, 0, 0], [0, 0, 0, 0, ...</td>\n",
       "      <td>[-6938856788005399257, -1899546351885497704]</td>\n",
       "      <td>2</td>\n",
       "      <td>[5, 7]</td>\n",
       "      <td>[5 7]</td>\n",
       "    </tr>\n",
       "    <tr>\n",
       "      <th>...</th>\n",
       "      <td>...</td>\n",
       "      <td>...</td>\n",
       "      <td>...</td>\n",
       "      <td>...</td>\n",
       "      <td>...</td>\n",
       "      <td>...</td>\n",
       "    </tr>\n",
       "    <tr>\n",
       "      <th>2598</th>\n",
       "      <td>5634579442942498392</td>\n",
       "      <td>[[0, 0, 0, 0, 0, 0, 0, 0, 0, 0], [0, 0, 0, 1, ...</td>\n",
       "      <td>[5326096572390618375, -4026445027915929042]</td>\n",
       "      <td>2</td>\n",
       "      <td>[0, 8]</td>\n",
       "      <td>[0 8]</td>\n",
       "    </tr>\n",
       "    <tr>\n",
       "      <th>2599</th>\n",
       "      <td>-3555244834660322828</td>\n",
       "      <td>[[0, 0, 0, 0, 0, 0, 0, 0, 0, 0], [0, 0, 0, 1, ...</td>\n",
       "      <td>[984269184280173841, -4026445027915929042]</td>\n",
       "      <td>2</td>\n",
       "      <td>[0, 4]</td>\n",
       "      <td>[0 4]</td>\n",
       "    </tr>\n",
       "    <tr>\n",
       "      <th>2600</th>\n",
       "      <td>2071775719526421037</td>\n",
       "      <td>[[0, 0, 0, 0, 0, 0, 0, 0, 0, 0], [0, 0, 0, 1, ...</td>\n",
       "      <td>[8032205725759801205, -4026445027915929042]</td>\n",
       "      <td>2</td>\n",
       "      <td>[0, 7]</td>\n",
       "      <td>[0 7]</td>\n",
       "    </tr>\n",
       "    <tr>\n",
       "      <th>2601</th>\n",
       "      <td>-2020393736945699039</td>\n",
       "      <td>[[0, 0, 0, 0, 0, 0, 0, 0, 0, 0], [0, 0, 0, 1, ...</td>\n",
       "      <td>[5263160615336228945, -4026445027915929042]</td>\n",
       "      <td>2</td>\n",
       "      <td>[0, 6]</td>\n",
       "      <td>[0 6]</td>\n",
       "    </tr>\n",
       "    <tr>\n",
       "      <th>2602</th>\n",
       "      <td>8884031067634968250</td>\n",
       "      <td>[[0, 0, 0, 0, 0, 0, 0, 0, 0, 0], [0, 0, 0, 0, ...</td>\n",
       "      <td>[-745822449361069887, -4026445027915929042]</td>\n",
       "      <td>2</td>\n",
       "      <td>[0, 1]</td>\n",
       "      <td>[0 1]</td>\n",
       "    </tr>\n",
       "  </tbody>\n",
       "</table>\n",
       "<p>105 rows × 6 columns</p>\n",
       "</div>"
      ],
      "text/plain": [
       "                     hash                                               conf  \\\n",
       "1942 -7930659089034126825  [[0, 0, 1, 0, 0, 1, 0, 0, 0, 0], [0, 0, 0, 0, ...   \n",
       "1960  2250447209038754865  [[0, 0, 0, 0, 0, 1, 0, 0, 0, 0], [0, 0, 0, 0, ...   \n",
       "1962 -5619004480391568259  [[0, 0, 0, 1, 0, 1, 0, 0, 0, 0], [0, 0, 0, 0, ...   \n",
       "2016 -2479906091558450084  [[0, 0, 0, 0, 0, 1, 0, 0, 0, 0], [0, 0, 0, 1, ...   \n",
       "2022  -926569847930216703  [[0, 0, 0, 0, 0, 1, 0, 0, 0, 0], [0, 0, 0, 0, ...   \n",
       "...                   ...                                                ...   \n",
       "2598  5634579442942498392  [[0, 0, 0, 0, 0, 0, 0, 0, 0, 0], [0, 0, 0, 1, ...   \n",
       "2599 -3555244834660322828  [[0, 0, 0, 0, 0, 0, 0, 0, 0, 0], [0, 0, 0, 1, ...   \n",
       "2600  2071775719526421037  [[0, 0, 0, 0, 0, 0, 0, 0, 0, 0], [0, 0, 0, 1, ...   \n",
       "2601 -2020393736945699039  [[0, 0, 0, 0, 0, 0, 0, 0, 0, 0], [0, 0, 0, 1, ...   \n",
       "2602  8884031067634968250  [[0, 0, 0, 0, 0, 0, 0, 0, 0, 0], [0, 0, 0, 0, ...   \n",
       "\n",
       "                                       transitions  n       m   mstr  \n",
       "1942  [-8041120012655694383, -2617471991899097155]  2  [7, 9]  [7 9]  \n",
       "1960   [4072669502136434950, -3037203631758632283]  2  [6, 9]  [6 9]  \n",
       "1962   [4008133401097849616, -5293219120899729222]  2  [6, 8]  [6 8]  \n",
       "2016    [5122700977348441491, -291767812445952893]  2  [5, 8]  [5 8]  \n",
       "2022  [-6938856788005399257, -1899546351885497704]  2  [5, 7]  [5 7]  \n",
       "...                                            ... ..     ...    ...  \n",
       "2598   [5326096572390618375, -4026445027915929042]  2  [0, 8]  [0 8]  \n",
       "2599    [984269184280173841, -4026445027915929042]  2  [0, 4]  [0 4]  \n",
       "2600   [8032205725759801205, -4026445027915929042]  2  [0, 7]  [0 7]  \n",
       "2601   [5263160615336228945, -4026445027915929042]  2  [0, 6]  [0 6]  \n",
       "2602   [-745822449361069887, -4026445027915929042]  2  [0, 1]  [0 1]  \n",
       "\n",
       "[105 rows x 6 columns]"
      ]
     },
     "execution_count": 225,
     "metadata": {},
     "output_type": "execute_result"
    }
   ],
   "source": [
    "x2['m'] = x2.conf.copy().apply(lambda c: minable(c))\n",
    "x2['mstr'] = x2.m.apply(lambda m: str(m))\n",
    "x2"
   ]
  },
  {
   "cell_type": "code",
   "execution_count": 226,
   "metadata": {},
   "outputs": [],
   "source": [
    "import igraph as ig"
   ]
  },
  {
   "cell_type": "code",
   "execution_count": 227,
   "metadata": {},
   "outputs": [
    {
     "name": "stdout",
     "output_type": "stream",
     "text": [
      "---------------------------\n",
      "0: []\n",
      "1: []\n",
      "2: [0]\n",
      "3: [0 1]\n",
      "4: [1]\n",
      "5: [0]\n",
      "6: [1]\n",
      "7: [2 6]\n",
      "8: [3]\n",
      "9: [4 5]\n",
      "---------------------------\n",
      "0: []\n",
      "1: []\n",
      "2: [0 4]\n",
      "3: [1]\n",
      "4: [1]\n",
      "5: [0 6]\n",
      "6: [1]\n",
      "7: [6]\n",
      "8: [3]\n",
      "9: [4]\n"
     ]
    }
   ],
   "source": [
    "for i in x2.query('mstr == \"[0 1]\"').conf[0:2]:\n",
    "    print(\"---------------------------\")\n",
    "    for j in range(10):\n",
    "        print(f\"{j}: {str(i[j].nonzero()[0])}\")"
   ]
  },
  {
   "cell_type": "markdown",
   "metadata": {},
   "source": [
    "In the second configuration 0 and 1 are on different levels."
   ]
  },
  {
   "cell_type": "code",
   "execution_count": 228,
   "metadata": {},
   "outputs": [
    {
     "data": {
      "image/png": "[encoded data removed]",
      "text/plain": [
       "<Figure size 600x600 with 1 Axes>"
      ]
     },
     "metadata": {},
     "output_type": "display_data"
    }
   ],
   "source": [
    "plt.rcParams[\"figure.figsize\"] = [6,6]\n",
    "fig, ax = plt.subplots()\n",
    "label = [str(i) for i in range(10)]\n",
    "g = graphs.Petersen.simplify()\n",
    "g.to_undirected(mode=\"collapse\")\n",
    "ig.plot(\n",
    "    g,\n",
    "    vertex_size=20,\n",
    "    vertex_label=label,\n",
    "    target=ax,\n",
    "    layout=graphs.Petersen_Layout,\n",
    ")\n",
    "plt.show()"
   ]
  }
 ],
 "metadata": {
  "kernelspec": {
   "display_name": ".venv",
   "language": "python",
   "name": "python3"
  },
  "language_info": {
   "codemirror_mode": {
    "name": "ipython",
    "version": 3
   },
   "file_extension": ".py",
   "mimetype": "text/x-python",
   "name": "python",
   "nbconvert_exporter": "python",
   "pygments_lexer": "ipython3",
   "version": "3.12.2"
  }
 },
 "nbformat": 4,
 "nbformat_minor": 2
}
